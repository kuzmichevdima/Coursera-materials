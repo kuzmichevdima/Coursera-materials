{
 "cells": [
  {
   "cell_type": "markdown",
   "metadata": {},
   "source": [
    "# Regression Week 5: Feature Selection and LASSO (Interpretation)"
   ]
  },
  {
   "cell_type": "markdown",
   "metadata": {},
   "source": [
    "In this notebook, you will use LASSO to select features, building on a pre-implemented solver for LASSO (using GraphLab Create, though you can use other solvers). You will:\n",
    "* Run LASSO with different L1 penalties.\n",
    "* Choose best L1 penalty using a validation set.\n",
    "* Choose best L1 penalty using a validation set, with additional constraint on the size of subset.\n",
    "\n",
    "In the second notebook, you will implement your own LASSO solver, using coordinate descent. "
   ]
  },
  {
   "cell_type": "markdown",
   "metadata": {},
   "source": [
    "# Fire up graphlab create"
   ]
  },
  {
   "cell_type": "code",
   "execution_count": 1,
   "metadata": {
    "collapsed": false
   },
   "outputs": [
    {
     "name": "stderr",
     "output_type": "stream",
     "text": [
      "A newer version of GraphLab Create (v1.8) is available! Your current version is v1.7.1.\n",
      "\n",
      "You can use pip to upgrade the graphlab-create package. For more information see https://dato.com/products/create/upgrade.\n"
     ]
    }
   ],
   "source": [
    "import graphlab"
   ]
  },
  {
   "cell_type": "markdown",
   "metadata": {},
   "source": [
    "# Load in house sales data\n",
    "\n",
    "Dataset is from house sales in King County, the region where the city of Seattle, WA is located."
   ]
  },
  {
   "cell_type": "code",
   "execution_count": 2,
   "metadata": {
    "collapsed": false,
    "scrolled": true
   },
   "outputs": [
    {
     "name": "stderr",
     "output_type": "stream",
     "text": [
      "[INFO] \u001b[1;32m1453087677 : INFO:     (initialize_globals_from_environment:282): Setting configuration variable GRAPHLAB_FILEIO_ALTERNATIVE_SSL_CERT_FILE to /home/d_k/dato-env/local/lib/python2.7/site-packages/certifi/cacert.pem\n",
      "\u001b[0m\u001b[1;32m1453087677 : INFO:     (initialize_globals_from_environment:282): Setting configuration variable GRAPHLAB_FILEIO_ALTERNATIVE_SSL_CERT_DIR to \n",
      "\u001b[0mThis non-commercial license of GraphLab Create is assigned to kuzmichevdima95@gmail.com and will expire on October 18, 2016. For commercial licensing options, visit https://dato.com/buy/.\n",
      "\n",
      "[INFO] Start server at: ipc:///tmp/graphlab_server-5403 - Server binary: /home/d_k/dato-env/lib/python2.7/site-packages/graphlab/unity_server - Server log: /tmp/graphlab_server_1453087677.log\n",
      "[INFO] GraphLab Server Version: 1.7.1\n"
     ]
    }
   ],
   "source": [
    "sales = graphlab.SFrame('kc_house_data.gl/')"
   ]
  },
  {
   "cell_type": "markdown",
   "metadata": {},
   "source": [
    "# Create new features"
   ]
  },
  {
   "cell_type": "markdown",
   "metadata": {},
   "source": [
    "As in Week 2, we consider features that are some transformations of inputs."
   ]
  },
  {
   "cell_type": "code",
   "execution_count": 3,
   "metadata": {
    "collapsed": true
   },
   "outputs": [],
   "source": [
    "from math import log, sqrt\n",
    "sales['sqft_living_sqrt'] = sales['sqft_living'].apply(sqrt)\n",
    "sales['sqft_lot_sqrt'] = sales['sqft_lot'].apply(sqrt)\n",
    "sales['bedrooms_square'] = sales['bedrooms']*sales['bedrooms']\n",
    "\n",
    "# In the dataset, 'floors' was defined with type string, \n",
    "# so we'll convert them to float, before creating a new feature.\n",
    "sales['floors'] = sales['floors'].astype(float) \n",
    "sales['floors_square'] = sales['floors']*sales['floors']"
   ]
  },
  {
   "cell_type": "markdown",
   "metadata": {},
   "source": [
    "* Squaring bedrooms will increase the separation between not many bedrooms (e.g. 1) and lots of bedrooms (e.g. 4) since 1^2 = 1 but 4^2 = 16. Consequently this variable will mostly affect houses with many bedrooms.\n",
    "* On the other hand, taking square root of sqft_living will decrease the separation between big house and small house. The owner may not be exactly twice as happy for getting a house that is twice as big."
   ]
  },
  {
   "cell_type": "markdown",
   "metadata": {},
   "source": [
    "# Learn regression weights with L1 penalty"
   ]
  },
  {
   "cell_type": "markdown",
   "metadata": {},
   "source": [
    "Let us fit a model with all the features available, plus the features we just created above."
   ]
  },
  {
   "cell_type": "code",
   "execution_count": 4,
   "metadata": {
    "collapsed": false
   },
   "outputs": [],
   "source": [
    "all_features = ['bedrooms', 'bedrooms_square',\n",
    "            'bathrooms',\n",
    "            'sqft_living', 'sqft_living_sqrt',\n",
    "            'sqft_lot', 'sqft_lot_sqrt',\n",
    "            'floors', 'floors_square',\n",
    "            'waterfront', 'view', 'condition', 'grade',\n",
    "            'sqft_above',\n",
    "            'sqft_basement',\n",
    "            'yr_built', 'yr_renovated']"
   ]
  },
  {
   "cell_type": "markdown",
   "metadata": {},
   "source": [
    "Applying L1 penalty requires adding an extra parameter (`l1_penalty`) to the linear regression call in GraphLab Create. (Other tools may have separate implementations of LASSO.)  Note that it's important to set `l2_penalty=0` to ensure we don't introduce an additional L2 penalty."
   ]
  },
  {
   "cell_type": "code",
   "execution_count": 5,
   "metadata": {
    "collapsed": false
   },
   "outputs": [
    {
     "name": "stdout",
     "output_type": "stream",
     "text": [
      "PROGRESS: Linear regression:\n",
      "PROGRESS: --------------------------------------------------------\n",
      "PROGRESS: Number of examples          : 21613\n",
      "PROGRESS: Number of features          : 17\n",
      "PROGRESS: Number of unpacked features : 17\n",
      "PROGRESS: Number of coefficients    : 18\n",
      "PROGRESS: Starting Accelerated Gradient (FISTA)\n",
      "PROGRESS: --------------------------------------------------------\n",
      "PROGRESS: +-----------+----------+-----------+--------------+--------------------+---------------+\n",
      "PROGRESS: | Iteration | Passes   | Step size | Elapsed Time | Training-max_error | Training-rmse |\n",
      "PROGRESS: +-----------+----------+-----------+--------------+--------------------+---------------+\n",
      "PROGRESS: Tuning step size. First iteration could take longer than subsequent iterations.\n",
      "PROGRESS: | 1         | 2        | 0.000002  | 1.346685     | 6962915.603493     | 426631.749026 |\n",
      "PROGRESS: | 2         | 3        | 0.000002  | 1.380871     | 6843144.200219     | 392488.929838 |\n",
      "PROGRESS: | 3         | 4        | 0.000002  | 1.405980     | 6831900.032123     | 385340.166783 |\n",
      "PROGRESS: | 4         | 5        | 0.000002  | 1.434247     | 6847166.848958     | 384842.383767 |\n",
      "PROGRESS: | 5         | 6        | 0.000002  | 1.462362     | 6869667.895833     | 385998.458623 |\n",
      "PROGRESS: | 6         | 7        | 0.000002  | 1.491583     | 6847177.773672     | 380824.455891 |\n",
      "PROGRESS: +-----------+----------+-----------+--------------+--------------------+---------------+\n",
      "PROGRESS: TERMINATED: Iteration limit reached.\n",
      "PROGRESS: This model may not be optimal. To improve it, consider increasing `max_iterations`.\n"
     ]
    }
   ],
   "source": [
    "model_all = graphlab.linear_regression.create(sales, target='price', features=all_features,\n",
    "                                              validation_set=None, \n",
    "                                              l2_penalty=0., l1_penalty=1e10)"
   ]
  },
  {
   "cell_type": "markdown",
   "metadata": {},
   "source": [
    "Find what features had non-zero weight."
   ]
  },
  {
   "cell_type": "code",
   "execution_count": 6,
   "metadata": {
    "collapsed": false
   },
   "outputs": [
    {
     "name": "stdout",
     "output_type": "stream",
     "text": [
      "+------------------+-------+---------------+\n",
      "|       name       | index |     value     |\n",
      "+------------------+-------+---------------+\n",
      "|   (intercept)    |  None |  274873.05595 |\n",
      "|     bedrooms     |  None |      0.0      |\n",
      "| bedrooms_square  |  None |      0.0      |\n",
      "|    bathrooms     |  None | 8468.53108691 |\n",
      "|   sqft_living    |  None | 24.4207209824 |\n",
      "| sqft_living_sqrt |  None | 350.060553386 |\n",
      "|     sqft_lot     |  None |      0.0      |\n",
      "|  sqft_lot_sqrt   |  None |      0.0      |\n",
      "|      floors      |  None |      0.0      |\n",
      "|  floors_square   |  None |      0.0      |\n",
      "|    waterfront    |  None |      0.0      |\n",
      "|       view       |  None |      0.0      |\n",
      "|    condition     |  None |      0.0      |\n",
      "|      grade       |  None | 842.068034898 |\n",
      "|    sqft_above    |  None | 20.0247224171 |\n",
      "|  sqft_basement   |  None |      0.0      |\n",
      "|     yr_built     |  None |      0.0      |\n",
      "|   yr_renovated   |  None |      0.0      |\n",
      "+------------------+-------+---------------+\n",
      "[18 rows x 3 columns]\n",
      "\n"
     ]
    }
   ],
   "source": [
    "(model_all.get('coefficients')).print_rows(num_rows = 100)"
   ]
  },
  {
   "cell_type": "markdown",
   "metadata": {},
   "source": [
    "Note that a majority of the weights have been set to zero. So by setting an L1 penalty that's large enough, we are performing a subset selection. \n",
    "\n",
    "***QUIZ QUESTION***:\n",
    "According to this list of weights, which of the features have been chosen? "
   ]
  },
  {
   "cell_type": "markdown",
   "metadata": {},
   "source": [
    "# Selecting an L1 penalty"
   ]
  },
  {
   "cell_type": "markdown",
   "metadata": {},
   "source": [
    "To find a good L1 penalty, we will explore multiple values using a validation set. Let us do three way split into train, validation, and test sets:\n",
    "* Split our sales data into 2 sets: training and test\n",
    "* Further split our training data into two sets: train, validation\n",
    "\n",
    "Be *very* careful that you use seed = 1 to ensure you get the same answer!"
   ]
  },
  {
   "cell_type": "code",
   "execution_count": 7,
   "metadata": {
    "collapsed": true
   },
   "outputs": [],
   "source": [
    "sales = graphlab.SFrame('kc_house_data.gl/')\n",
    "sales['floors'] = sales['floors'].astype(float) \n",
    "(training_and_validation, testing) = sales.random_split(.9,seed=1) # initial train/test split\n",
    "(training, validation) = training_and_validation.random_split(0.5, seed=1) # split training into train and validate"
   ]
  },
  {
   "cell_type": "markdown",
   "metadata": {},
   "source": [
    "Next, we write a loop that does the following:\n",
    "* For `l1_penalty` in [10^1, 10^1.5, 10^2, 10^2.5, ..., 10^7] (to get this in Python, type `np.logspace(1, 7, num=13)`.)\n",
    "    * Fit a regression model with a given `l1_penalty` on TRAIN data. Specify `l1_penalty=l1_penalty` and `l2_penalty=0.` in the parameter list.\n",
    "    * Compute the RSS on VALIDATION data (here you will want to use `.predict()`) for that `l1_penalty`\n",
    "* Report which `l1_penalty` produced the lowest RSS on validation data.\n",
    "\n",
    "When you call `linear_regression.create()` make sure you set `validation_set = None`.\n",
    "\n",
    "Note: you can turn off the print out of `linear_regression.create()` with `verbose = False`"
   ]
  },
  {
   "cell_type": "code",
   "execution_count": 8,
   "metadata": {
    "collapsed": false
   },
   "outputs": [],
   "source": [
    "testing['sqft_living_sqrt'] = testing['sqft_living'].apply(sqrt)\n",
    "testing['sqft_lot_sqrt'] = testing['sqft_lot'].apply(sqrt)\n",
    "testing['bedrooms_square'] = testing['bedrooms']*testing['bedrooms']\n",
    "testing['floors_square'] = testing['floors']*testing['floors']\n",
    "\n",
    "training['sqft_living_sqrt'] = training['sqft_living'].apply(sqrt)\n",
    "training['sqft_lot_sqrt'] = training['sqft_lot'].apply(sqrt)\n",
    "training['bedrooms_square'] = training['bedrooms']*training['bedrooms']\n",
    "training['floors_square'] = training['floors']*training['floors']\n",
    "\n",
    "validation['sqft_living_sqrt'] = validation['sqft_living'].apply(sqrt)\n",
    "validation['sqft_lot_sqrt'] = validation['sqft_lot'].apply(sqrt)\n",
    "validation['bedrooms_square'] = validation['bedrooms']*validation['bedrooms']\n",
    "validation['floors_square'] = validation['floors']*validation['floors']"
   ]
  },
  {
   "cell_type": "code",
   "execution_count": 10,
   "metadata": {
    "collapsed": false
   },
   "outputs": [
    {
     "name": "stdout",
     "output_type": "stream",
     "text": [
      "+------------------+-------+------------------+\n",
      "|       name       | index |      value       |\n",
      "+------------------+-------+------------------+\n",
      "|   (intercept)    |  None |  18993.4272128   |\n",
      "|     bedrooms     |  None |  7936.96767903   |\n",
      "| bedrooms_square  |  None |  936.993368193   |\n",
      "|    bathrooms     |  None |  25409.5889341   |\n",
      "|   sqft_living    |  None |  39.1151363797   |\n",
      "| sqft_living_sqrt |  None |  1124.65021281   |\n",
      "|     sqft_lot     |  None | 0.00348361822299 |\n",
      "|  sqft_lot_sqrt   |  None |  148.258391011   |\n",
      "|      floors      |  None |   21204.335467   |\n",
      "|  floors_square   |  None |  12915.5243361   |\n",
      "|    waterfront    |  None |  601905.594545   |\n",
      "|       view       |  None |  93312.8573119   |\n",
      "|    condition     |  None |  6609.03571245   |\n",
      "|      grade       |  None |  6206.93999188   |\n",
      "|    sqft_above    |  None |  43.2870534193   |\n",
      "|  sqft_basement   |  None |  122.367827534   |\n",
      "|     yr_built     |  None |  9.43363539372   |\n",
      "|   yr_renovated   |  None |  56.0720034488   |\n",
      "+------------------+-------+------------------+\n",
      "[18 rows x 3 columns]\n",
      "\n",
      "for penalty = 10.0 339516.495144\n",
      "10.0 6.25766285142e+14\n",
      "+------------------+-------+------------------+\n",
      "|       name       | index |      value       |\n",
      "+------------------+-------+------------------+\n",
      "|   (intercept)    |  None |  18993.4285345   |\n",
      "|     bedrooms     |  None |  7936.96764801   |\n",
      "| bedrooms_square  |  None |   936.99334899   |\n",
      "|    bathrooms     |  None |  25409.5888977   |\n",
      "|   sqft_living    |  None |  39.1151363649   |\n",
      "| sqft_living_sqrt |  None |   1124.6502113   |\n",
      "|     sqft_lot     |  None | 0.00348360549025 |\n",
      "|  sqft_lot_sqrt   |  None |  148.258390148   |\n",
      "|      floors      |  None |  21204.3353589   |\n",
      "|  floors_square   |  None |  12915.5242399   |\n",
      "|    waterfront    |  None |  601905.587264   |\n",
      "|       view       |  None |  93312.8568285   |\n",
      "|    condition     |  None |   6609.0356597   |\n",
      "|      grade       |  None |  6206.93997768   |\n",
      "|    sqft_above    |  None |  43.2870533669   |\n",
      "|  sqft_basement   |  None |  122.367826798   |\n",
      "|     yr_built     |  None |  9.43363531039   |\n",
      "|   yr_renovated   |  None |  56.0720018382   |\n",
      "+------------------+-------+------------------+\n",
      "[18 rows x 3 columns]\n",
      "\n",
      "for penalty = 31.6227766017 339516.495271\n",
      "31.6227766017 6.25766285362e+14\n",
      "+------------------+-------+-----------------+\n",
      "|       name       | index |      value      |\n",
      "+------------------+-------+-----------------+\n",
      "|   (intercept)    |  None |  18993.4327144  |\n",
      "|     bedrooms     |  None |   7936.9675499  |\n",
      "| bedrooms_square  |  None |  936.993288262  |\n",
      "|    bathrooms     |  None |  25409.5887825  |\n",
      "|   sqft_living    |  None |  39.1151363182  |\n",
      "| sqft_living_sqrt |  None |  1124.65020653  |\n",
      "|     sqft_lot     |  None | 0.0034835652258 |\n",
      "|  sqft_lot_sqrt   |  None |  148.258387417  |\n",
      "|      floors      |  None |  21204.3350171  |\n",
      "|  floors_square   |  None |  12915.5239357  |\n",
      "|    waterfront    |  None |   601905.56424  |\n",
      "|       view       |  None |  93312.8552999  |\n",
      "|    condition     |  None |  6609.03549292  |\n",
      "|      grade       |  None |  6206.93993278  |\n",
      "|    sqft_above    |  None |   43.287053201  |\n",
      "|  sqft_basement   |  None |  122.367824469  |\n",
      "|     yr_built     |  None |  9.43363504686  |\n",
      "|   yr_renovated   |  None |   56.071996745  |\n",
      "+------------------+-------+-----------------+\n",
      "[18 rows x 3 columns]\n",
      "\n",
      "for penalty = 100.0 339516.495672\n",
      "100.0 6.25766286058e+14\n",
      "+------------------+-------+------------------+\n",
      "|       name       | index |      value       |\n",
      "+------------------+-------+------------------+\n",
      "|   (intercept)    |  None |  18993.4459322   |\n",
      "|     bedrooms     |  None |  7936.96723967   |\n",
      "| bedrooms_square  |  None |  936.993096225   |\n",
      "|    bathrooms     |  None |  25409.5884183   |\n",
      "|   sqft_living    |  None |  39.1151361705   |\n",
      "| sqft_living_sqrt |  None |  1124.65019144   |\n",
      "|     sqft_lot     |  None | 0.00348343789842 |\n",
      "|  sqft_lot_sqrt   |  None |  148.258378783   |\n",
      "|      floors      |  None |  21204.3339364   |\n",
      "|  floors_square   |  None |  12915.5229739   |\n",
      "|    waterfront    |  None |  601905.491432   |\n",
      "|       view       |  None |  93312.8504661   |\n",
      "|    condition     |  None |  6609.03496549   |\n",
      "|      grade       |  None |  6206.93979079   |\n",
      "|    sqft_above    |  None |  43.2870526766   |\n",
      "|  sqft_basement   |  None |  122.367817104   |\n",
      "|     yr_built     |  None |  9.43363421352   |\n",
      "|   yr_renovated   |  None |  56.0719806388   |\n",
      "+------------------+-------+------------------+\n",
      "[18 rows x 3 columns]\n",
      "\n",
      "for penalty = 316.227766017 339516.496938\n",
      "316.227766017 6.25766288257e+14\n",
      "+------------------+-------+------------------+\n",
      "|       name       | index |      value       |\n",
      "+------------------+-------+------------------+\n",
      "|   (intercept)    |  None |  18993.4877305   |\n",
      "|     bedrooms     |  None |  7936.96625863   |\n",
      "| bedrooms_square  |  None |  936.992488952   |\n",
      "|    bathrooms     |  None |  25409.5872664   |\n",
      "|   sqft_living    |  None |  39.1151357034   |\n",
      "| sqft_living_sqrt |  None |  1124.65014372   |\n",
      "|     sqft_lot     |  None | 0.00348303525386 |\n",
      "|  sqft_lot_sqrt   |  None |  148.258351477   |\n",
      "|      floors      |  None |  21204.3305187   |\n",
      "|  floors_square   |  None |  12915.5199324   |\n",
      "|    waterfront    |  None |  601905.261191   |\n",
      "|       view       |  None |  93312.8351802   |\n",
      "|    condition     |  None |  6609.03329762   |\n",
      "|      grade       |  None |  6206.93934177   |\n",
      "|    sqft_above    |  None |  43.2870510181   |\n",
      "|  sqft_basement   |  None |  122.367793815   |\n",
      "|     yr_built     |  None |  9.43363157825   |\n",
      "|   yr_renovated   |  None |  56.0719297067   |\n",
      "+------------------+-------+------------------+\n",
      "[18 rows x 3 columns]\n",
      "\n",
      "for penalty = 1000.0 339516.500943\n",
      "1000.0 6.25766295212e+14\n",
      "+------------------+-------+------------------+\n",
      "|       name       | index |      value       |\n",
      "+------------------+-------+------------------+\n",
      "|   (intercept)    |  None |  18993.6199083   |\n",
      "|     bedrooms     |  None |  7936.96315631   |\n",
      "| bedrooms_square  |  None |  936.990568583   |\n",
      "|    bathrooms     |  None |  25409.5836239   |\n",
      "|   sqft_living    |  None |  39.1151342262   |\n",
      "| sqft_living_sqrt |  None |  1124.64999282   |\n",
      "|     sqft_lot     |  None | 0.00348176198003 |\n",
      "|  sqft_lot_sqrt   |  None |  148.258265129   |\n",
      "|      floors      |  None |  21204.3197113   |\n",
      "|  floors_square   |  None |  12915.5103143   |\n",
      "|    waterfront    |  None |  601904.533104   |\n",
      "|       view       |  None |  93312.7868419   |\n",
      "|    condition     |  None |  6609.02802336   |\n",
      "|      grade       |  None |  6206.93792184   |\n",
      "|    sqft_above    |  None |  43.2870457734   |\n",
      "|  sqft_basement   |  None |  122.367720169   |\n",
      "|     yr_built     |  None |  9.43362324482   |\n",
      "|   yr_renovated   |  None |  56.0717686452   |\n",
      "+------------------+-------+------------------+\n",
      "[18 rows x 3 columns]\n",
      "\n",
      "for penalty = 3162.27766017 339516.513609\n",
      "3162.27766017 6.25766317206e+14\n",
      "+------------------+-------+------------------+\n",
      "|       name       | index |      value       |\n",
      "+------------------+-------+------------------+\n",
      "|   (intercept)    |  None |  18994.0378912   |\n",
      "|     bedrooms     |  None |  7936.95334592   |\n",
      "| bedrooms_square  |  None |  936.984495845   |\n",
      "|    bathrooms     |  None |  25409.5721055   |\n",
      "|   sqft_living    |  None |   39.115129555   |\n",
      "| sqft_living_sqrt |  None |  1124.64951563   |\n",
      "|     sqft_lot     |  None | 0.00347773553446 |\n",
      "|  sqft_lot_sqrt   |  None |  148.257992074   |\n",
      "|      floors      |  None |   21204.285535   |\n",
      "|  floors_square   |  None |  12915.4798991   |\n",
      "|    waterfront    |  None |  601902.230693   |\n",
      "|       view       |  None |  93312.6339828   |\n",
      "|    condition     |  None |  6609.01134468   |\n",
      "|      grade       |  None |  6206.93343165   |\n",
      "|    sqft_above    |  None |  43.2870291885   |\n",
      "|  sqft_basement   |  None |  122.367487279   |\n",
      "|     yr_built     |  None |  9.43359689216   |\n",
      "|   yr_renovated   |  None |   56.071259324   |\n",
      "+------------------+-------+------------------+\n",
      "[18 rows x 3 columns]\n",
      "\n",
      "for penalty = 10000.0 339516.553661\n",
      "10000.0 6.25766386761e+14\n",
      "+------------------+-------+-----------------+\n",
      "|       name       | index |      value      |\n",
      "+------------------+-------+-----------------+\n",
      "|   (intercept)    |  None |  18995.3596694  |\n",
      "|     bedrooms     |  None |  7936.92232272  |\n",
      "| bedrooms_square  |  None |  936.965292161  |\n",
      "|    bathrooms     |  None |  25409.5356808  |\n",
      "|   sqft_living    |  None |  39.1151147834  |\n",
      "| sqft_living_sqrt |  None |  1124.64800663  |\n",
      "|     sqft_lot     |  None | 0.0034650027953 |\n",
      "|  sqft_lot_sqrt   |  None |  148.257128596  |\n",
      "|      floors      |  None |  21204.1774601  |\n",
      "|  floors_square   |  None |  12915.3837177  |\n",
      "|    waterfront    |  None |   601894.94983  |\n",
      "|       view       |  None |  93312.1505999  |\n",
      "|    condition     |  None |  6608.95860207  |\n",
      "|      grade       |  None |   6206.9192324  |\n",
      "|    sqft_above    |  None |  43.2869767421  |\n",
      "|  sqft_basement   |  None |  122.366750815  |\n",
      "|     yr_built     |  None |  9.43351355776  |\n",
      "|   yr_renovated   |  None |  56.0696487088  |\n",
      "+------------------+-------+-----------------+\n",
      "[18 rows x 3 columns]\n",
      "\n",
      "for penalty = 31622.7766017 339516.680317\n",
      "31622.7766017 6.25766606749e+14\n",
      "+------------------+-------+------------------+\n",
      "|       name       | index |      value       |\n",
      "+------------------+-------+------------------+\n",
      "|   (intercept)    |  None |   18999.539499   |\n",
      "|     bedrooms     |  None |  7936.82421875   |\n",
      "| bedrooms_square  |  None |  936.904564783   |\n",
      "|    bathrooms     |  None |  25409.4204959   |\n",
      "|   sqft_living    |  None |  39.1150680714   |\n",
      "| sqft_living_sqrt |  None |  1124.64323476   |\n",
      "|     sqft_lot     |  None | 0.00342473834052 |\n",
      "|  sqft_lot_sqrt   |  None |  148.254398041   |\n",
      "|      floors      |  None |  21203.8356975   |\n",
      "|  floors_square   |  None |  12915.0795655   |\n",
      "|    waterfront    |  None |  601871.925719   |\n",
      "|       view       |  None |  93310.6220089   |\n",
      "|    condition     |  None |  6608.79181529   |\n",
      "|      grade       |  None |  6206.87433044   |\n",
      "|    sqft_above    |  None |  43.2868108922   |\n",
      "|  sqft_basement   |  None |  122.364421913   |\n",
      "|     yr_built     |  None |  9.43325003126   |\n",
      "|   yr_renovated   |  None |  56.0645554967   |\n",
      "+------------------+-------+------------------+\n",
      "[18 rows x 3 columns]\n",
      "\n",
      "for penalty = 100000.0 339517.080837\n",
      "100000.0 6.25767302792e+14\n",
      "+------------------+-------+------------------+\n",
      "|       name       | index |      value       |\n",
      "+------------------+-------+------------------+\n",
      "|   (intercept)    |  None |  19012.7572816   |\n",
      "|     bedrooms     |  None |  7936.51398675   |\n",
      "| bedrooms_square  |  None |  936.712527935   |\n",
      "|    bathrooms     |  None |  25409.0562492   |\n",
      "|   sqft_living    |  None |  39.1149203552   |\n",
      "| sqft_living_sqrt |  None |  1124.62814478   |\n",
      "|     sqft_lot     |  None | 0.00329741094431 |\n",
      "|  sqft_lot_sqrt   |  None |  148.245763265   |\n",
      "|      floors      |  None |   21202.754949   |\n",
      "|  floors_square   |  None |  12914.1177518   |\n",
      "|    waterfront    |  None |  601799.117081   |\n",
      "|       view       |  None |  93305.7881796   |\n",
      "|    condition     |  None |  6608.26438913   |\n",
      "|      grade       |  None |  6206.73233795   |\n",
      "|    sqft_above    |  None |  43.2862864287   |\n",
      "|  sqft_basement   |  None |  122.357057279   |\n",
      "|     yr_built     |  None |  9.43241668723   |\n",
      "|   yr_renovated   |  None |  56.0484493444   |\n",
      "+------------------+-------+------------------+\n",
      "[18 rows x 3 columns]\n",
      "\n",
      "for penalty = 316227.766017 339518.347395\n",
      "316227.766017 6.25769507644e+14\n",
      "+------------------+-------+------------------+\n",
      "|       name       | index |      value       |\n",
      "+------------------+-------+------------------+\n",
      "|   (intercept)    |  None |  19054.5555764   |\n",
      "|     bedrooms     |  None |  7935.53294712   |\n",
      "| bedrooms_square  |  None |  936.105254156   |\n",
      "|    bathrooms     |  None |  25407.9044002   |\n",
      "|   sqft_living    |  None |  39.1144532356   |\n",
      "| sqft_living_sqrt |  None |  1124.58042608   |\n",
      "|     sqft_lot     |  None | 0.00289476640108 |\n",
      "|  sqft_lot_sqrt   |  None |  148.218457709   |\n",
      "|      floors      |  None |  21199.3373226   |\n",
      "|  floors_square   |  None |  12911.0762302   |\n",
      "|    waterfront    |  None |  601568.875973   |\n",
      "|       view       |  None |  93290.5022704   |\n",
      "|    condition     |  None |  6606.59652132   |\n",
      "|      grade       |  None |  6206.28331834   |\n",
      "|    sqft_above    |  None |  43.2846279298   |\n",
      "|  sqft_basement   |  None |  122.333768262   |\n",
      "|     yr_built     |  None |  9.42978142224   |\n",
      "|   yr_renovated   |  None |  55.9975172235   |\n",
      "+------------------+-------+------------------+\n",
      "[18 rows x 3 columns]\n",
      "\n",
      "for penalty = 1000000.0 339522.3526\n",
      "1000000.0 6.25776517727e+14\n",
      "+------------------+-------+------------------+\n",
      "|       name       | index |      value       |\n",
      "+------------------+-------+------------------+\n",
      "|   (intercept)    |  None |  19186.7333988   |\n",
      "|     bedrooms     |  None |   7932.4306272   |\n",
      "| bedrooms_square  |  None |   934.18488573   |\n",
      "|    bathrooms     |  None |  25404.2619334   |\n",
      "|   sqft_living    |  None |  39.1129760734   |\n",
      "| sqft_living_sqrt |  None |  1124.42952628   |\n",
      "|     sqft_lot     |  None | 0.00162149247578 |\n",
      "|  sqft_lot_sqrt   |  None |  148.132109954   |\n",
      "|      floors      |  None |  21188.5298383   |\n",
      "|  floors_square   |  None |  12901.4580936   |\n",
      "|    waterfront    |  None |  600840.789617   |\n",
      "|       view       |  None |  93242.1639781   |\n",
      "|    condition     |  None |  6601.32225988   |\n",
      "|      grade       |  None |  6204.86339356   |\n",
      "|    sqft_above    |  None |  43.2793832952   |\n",
      "|  sqft_basement   |  None |  122.260121918   |\n",
      "|     yr_built     |  None |  9.42144798212   |\n",
      "|   yr_renovated   |  None |  55.8364557053   |\n",
      "+------------------+-------+------------------+\n",
      "[18 rows x 3 columns]\n",
      "\n",
      "for penalty = 3162277.66017 339535.018173\n",
      "3162277.66017 6.25799062845e+14\n",
      "+------------------+-------+--------------------+\n",
      "|       name       | index |       value        |\n",
      "+------------------+-------+--------------------+\n",
      "|   (intercept)    |  None |   19604.7163508    |\n",
      "|     bedrooms     |  None |   7922.62023075    |\n",
      "| bedrooms_square  |  None |   928.112147889    |\n",
      "|    bathrooms     |  None |    25392.743443    |\n",
      "|   sqft_living    |  None |   39.1083048767    |\n",
      "| sqft_living_sqrt |  None |   1123.95233925    |\n",
      "|     sqft_lot     |  None | -0.000823987151992 |\n",
      "|  sqft_lot_sqrt   |  None |   147.859054391    |\n",
      "|      floors      |  None |    21154.353574    |\n",
      "|  floors_square   |  None |    12871.042877    |\n",
      "|    waterfront    |  None |   598538.378522    |\n",
      "|       view       |  None |   93089.3048849    |\n",
      "|    condition     |  None |   6584.64358167    |\n",
      "|      grade       |  None |   6200.37319739    |\n",
      "|    sqft_above    |  None |   43.2627983054    |\n",
      "|  sqft_basement   |  None |   122.027231745    |\n",
      "|     yr_built     |  None |   9.39509533202    |\n",
      "|   yr_renovated   |  None |   55.3271344922    |\n",
      "+------------------+-------+--------------------+\n",
      "[18 rows x 3 columns]\n",
      "\n",
      "for penalty = 10000000.0 339584.002686\n",
      "10000000.0 6.25883719085e+14\n",
      "best: 10.0 6.25766285142e+14\n"
     ]
    }
   ],
   "source": [
    "import numpy as np\n",
    "val_output = validation['price']\n",
    "best_RSS = 0\n",
    "best_penalty = 0\n",
    "best_model = None\n",
    "for penalty in np.logspace(1, 7, num=13):\n",
    "    current_model = graphlab.linear_regression.create(training, target='price', features=all_features,\n",
    "                                              validation_set=None, \n",
    "                                              l2_penalty=0., l1_penalty=penalty, verbose=False)\n",
    "    current_model.get('coefficients').print_rows(num_rows=20)\n",
    "    val_RSS = 0\n",
    "    val_predictions = current_model.predict(validation)\n",
    "    print(\"for penalty = \" + str(penalty) + \" \" + str(val_predictions[0]))\n",
    "    for i in range(len(validation)):\n",
    "        val_RSS += (val_output[i] - val_predictions[i]) ** 2\n",
    "    print(str(penalty) + \" \" + str(val_RSS))\n",
    "    if (best_penalty == 0 or val_RSS < best_RSS):\n",
    "        best_penalty = penalty\n",
    "        best_RSS = val_RSS\n",
    "        best_model = current_model\n",
    "print(\"best: \" + str(best_penalty) + \" \" + str(best_RSS))"
   ]
  },
  {
   "cell_type": "code",
   "execution_count": 24,
   "metadata": {
    "collapsed": false
   },
   "outputs": [
    {
     "ename": "AttributeError",
     "evalue": "'LinearRegression' object has no attribute 'coef_'",
     "output_type": "error",
     "traceback": [
      "\u001b[1;31m---------------------------------------------------------------------------\u001b[0m",
      "\u001b[1;31mAttributeError\u001b[0m                            Traceback (most recent call last)",
      "\u001b[1;32m<ipython-input-24-3c72cdcd8dd9>\u001b[0m in \u001b[0;36m<module>\u001b[1;34m()\u001b[0m\n\u001b[1;32m----> 1\u001b[1;33m \u001b[1;32mprint\u001b[0m\u001b[1;33m(\u001b[0m\u001b[0mnp\u001b[0m\u001b[1;33m.\u001b[0m\u001b[0mcount_nonzero\u001b[0m\u001b[1;33m(\u001b[0m\u001b[0mbest_model\u001b[0m\u001b[1;33m.\u001b[0m\u001b[0mcoef_\u001b[0m\u001b[1;33m)\u001b[0m \u001b[1;33m+\u001b[0m \u001b[0mnp\u001b[0m\u001b[1;33m.\u001b[0m\u001b[0mcount_nonzero\u001b[0m\u001b[1;33m(\u001b[0m\u001b[0mbest_model\u001b[0m\u001b[1;33m.\u001b[0m\u001b[0mintercept_\u001b[0m\u001b[1;33m)\u001b[0m\u001b[1;33m)\u001b[0m\u001b[1;33m\u001b[0m\u001b[0m\n\u001b[0m",
      "\u001b[1;32m/home/d_k/dato-env/local/lib/python2.7/site-packages/graphlab/toolkits/_model.pyc\u001b[0m in \u001b[0;36m__getattribute__\u001b[1;34m(self, attr)\u001b[0m\n\u001b[0;32m    560\u001b[0m             \u001b[1;32mreturn\u001b[0m \u001b[0mself\u001b[0m\u001b[1;33m.\u001b[0m\u001b[0mget\u001b[0m\u001b[1;33m(\u001b[0m\u001b[0mattr\u001b[0m\u001b[1;33m)\u001b[0m\u001b[1;33m\u001b[0m\u001b[0m\n\u001b[0;32m    561\u001b[0m         \u001b[1;32melse\u001b[0m\u001b[1;33m:\u001b[0m\u001b[1;33m\u001b[0m\u001b[0m\n\u001b[1;32m--> 562\u001b[1;33m             \u001b[1;32mreturn\u001b[0m \u001b[0mobject\u001b[0m\u001b[1;33m.\u001b[0m\u001b[0m__getattribute__\u001b[0m\u001b[1;33m(\u001b[0m\u001b[0mself\u001b[0m\u001b[1;33m,\u001b[0m \u001b[0mattr\u001b[0m\u001b[1;33m)\u001b[0m\u001b[1;33m\u001b[0m\u001b[0m\n\u001b[0m\u001b[0;32m    563\u001b[0m \u001b[1;33m\u001b[0m\u001b[0m\n\u001b[0;32m    564\u001b[0m \u001b[1;33m\u001b[0m\u001b[0m\n",
      "\u001b[1;31mAttributeError\u001b[0m: 'LinearRegression' object has no attribute 'coef_'"
     ]
    }
   ],
   "source": [
    "print(np.count_nonzero(best_model.coef_) + np.count_nonzero(best_model.intercept_))"
   ]
  },
  {
   "cell_type": "markdown",
   "metadata": {},
   "source": [
    "*** QUIZ QUESTIONS ***\n",
    "1. What was the best value for the `l1_penalty`?\n",
    "2. What is the RSS on TEST data of the model with the best `l1_penalty`?"
   ]
  },
  {
   "cell_type": "code",
   "execution_count": null,
   "metadata": {
    "collapsed": false
   },
   "outputs": [],
   "source": []
  },
  {
   "cell_type": "markdown",
   "metadata": {},
   "source": [
    "***QUIZ QUESTION***\n",
    "Also, using this value of L1 penalty, how many nonzero weights do you have?"
   ]
  },
  {
   "cell_type": "code",
   "execution_count": null,
   "metadata": {
    "collapsed": false
   },
   "outputs": [],
   "source": []
  },
  {
   "cell_type": "markdown",
   "metadata": {},
   "source": [
    "# Limit the number of nonzero weights\n",
    "\n",
    "What if we absolutely wanted to limit ourselves to, say, 7 features? This may be important if we want to derive \"a rule of thumb\" --- an interpretable model that has only a few features in them."
   ]
  },
  {
   "cell_type": "markdown",
   "metadata": {},
   "source": [
    "In this section, you are going to implement a simple, two phase procedure to achive this goal:\n",
    "1. Explore a large range of `l1_penalty` values to find a narrow region of `l1_penalty` values where models are likely to have the desired number of non-zero weights.\n",
    "2. Further explore the narrow region you found to find a good value for `l1_penalty` that achieves the desired sparsity.  Here, we will again use a validation set to choose the best value for `l1_penalty`."
   ]
  },
  {
   "cell_type": "code",
   "execution_count": null,
   "metadata": {
    "collapsed": true
   },
   "outputs": [],
   "source": [
    "max_nonzeros = 7"
   ]
  },
  {
   "cell_type": "markdown",
   "metadata": {},
   "source": [
    "## Exploring the larger range of values to find a narrow range with the desired sparsity\n",
    "\n",
    "Let's define a wide range of possible `l1_penalty_values`:"
   ]
  },
  {
   "cell_type": "code",
   "execution_count": null,
   "metadata": {
    "collapsed": false
   },
   "outputs": [],
   "source": [
    "l1_penalty_values = np.logspace(8, 10, num=20)"
   ]
  },
  {
   "cell_type": "markdown",
   "metadata": {},
   "source": [
    "Now, implement a loop that search through this space of possible `l1_penalty` values:\n",
    "\n",
    "* For `l1_penalty` in `np.logspace(8, 10, num=20)`:\n",
    "    * Fit a regression model with a given `l1_penalty` on TRAIN data. Specify `l1_penalty=l1_penalty` and `l2_penalty=0.` in the parameter list. When you call `linear_regression.create()` make sure you set `validation_set = None`\n",
    "    * Extract the weights of the model and count the number of nonzeros. Save the number of nonzeros to a list.\n",
    "        * *Hint: `model['coefficients']['value']` gives you an SArray with the parameters you learned.  If you call the method `.nnz()` on it, you will find the number of non-zero parameters!* "
   ]
  },
  {
   "cell_type": "code",
   "execution_count": null,
   "metadata": {
    "collapsed": true
   },
   "outputs": [],
   "source": []
  },
  {
   "cell_type": "markdown",
   "metadata": {},
   "source": [
    "Out of this large range, we want to find the two ends of our desired narrow range of `l1_penalty`.  At one end, we will have `l1_penalty` values that have too few non-zeros, and at the other end, we will have an `l1_penalty` that has too many non-zeros.  \n",
    "\n",
    "More formally, find:\n",
    "* The largest `l1_penalty` that has more non-zeros than `max_nonzero` (if we pick a penalty smaller than this value, we will definitely have too many non-zero weights)\n",
    "    * Store this value in the variable `l1_penalty_min` (we will use it later)\n",
    "* The smallest `l1_penalty` that has fewer non-zeros than `max_nonzero` (if we pick a penalty larger than this value, we will definitely have too few non-zero weights)\n",
    "    * Store this value in the variable `l1_penalty_max` (we will use it later)\n",
    "\n",
    "\n",
    "*Hint: there are many ways to do this, e.g.:*\n",
    "* Programmatically within the loop above\n",
    "* Creating a list with the number of non-zeros for each value of `l1_penalty` and inspecting it to find the appropriate boundaries."
   ]
  },
  {
   "cell_type": "code",
   "execution_count": null,
   "metadata": {
    "collapsed": true
   },
   "outputs": [],
   "source": [
    "l1_penalty_min = \n",
    "l1_penalty_max = "
   ]
  },
  {
   "cell_type": "markdown",
   "metadata": {},
   "source": [
    "***QUIZ QUESTIONS***\n",
    "\n",
    "What values did you find for `l1_penalty_min` and`l1_penalty_max`? "
   ]
  },
  {
   "cell_type": "markdown",
   "metadata": {},
   "source": [
    "## Exploring the narrow range of values to find the solution with the right number of non-zeros that has lowest RSS on the validation set \n",
    "\n",
    "We will now explore the narrow region of `l1_penalty` values we found:"
   ]
  },
  {
   "cell_type": "code",
   "execution_count": null,
   "metadata": {
    "collapsed": true
   },
   "outputs": [],
   "source": [
    "l1_penalty_values = np.linspace(l1_penalty_min,l1_penalty_max,20)"
   ]
  },
  {
   "cell_type": "markdown",
   "metadata": {},
   "source": [
    "* For `l1_penalty` in `np.linspace(l1_penalty_min,l1_penalty_max,20)`:\n",
    "    * Fit a regression model with a given `l1_penalty` on TRAIN data. Specify `l1_penalty=l1_penalty` and `l2_penalty=0.` in the parameter list. When you call `linear_regression.create()` make sure you set `validation_set = None`\n",
    "    * Measure the RSS of the learned model on the VALIDATION set\n",
    "\n",
    "Find the model that the lowest RSS on the VALIDATION set and has sparsity *equal* to `max_nonzero`."
   ]
  },
  {
   "cell_type": "code",
   "execution_count": null,
   "metadata": {
    "collapsed": true
   },
   "outputs": [],
   "source": []
  },
  {
   "cell_type": "markdown",
   "metadata": {},
   "source": [
    "***QUIZ QUESTIONS***\n",
    "1. What value of `l1_penalty` in our narrow range has the lowest RSS on the VALIDATION set and has sparsity *equal* to `max_nonzeros`?\n",
    "2. What features in this model have non-zero coefficients?"
   ]
  },
  {
   "cell_type": "code",
   "execution_count": null,
   "metadata": {
    "collapsed": false
   },
   "outputs": [],
   "source": []
  }
 ],
 "metadata": {
  "kernelspec": {
   "display_name": "Python 2",
   "language": "python",
   "name": "python2"
  },
  "language_info": {
   "codemirror_mode": {
    "name": "ipython",
    "version": 2
   },
   "file_extension": ".py",
   "mimetype": "text/x-python",
   "name": "python",
   "nbconvert_exporter": "python",
   "pygments_lexer": "ipython2",
   "version": "2.7.9"
  }
 },
 "nbformat": 4,
 "nbformat_minor": 0
}
