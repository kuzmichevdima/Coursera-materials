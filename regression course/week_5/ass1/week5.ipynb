{
 "cells": [
  {
   "cell_type": "code",
   "execution_count": 1,
   "metadata": {
    "collapsed": true
   },
   "outputs": [],
   "source": [
    "import pandas as pd\n",
    "\n",
    "dtype_dict = {'bathrooms':float, 'waterfront':int, 'sqft_above':int,\\\n",
    "              'sqft_living15':float, 'grade':int, 'yr_renovated':int,\n",
    "              'price':float, 'bedrooms':float, 'zipcode':str, 'long':float, 'sqft_lot15':float, 'sqft_living':float, \n",
    "              'floors':float, 'condition':int, 'lat':float,\n",
    "              'date':str, 'sqft_basement':int, 'yr_built':int, 'id':str, 'sqft_lot':int, 'view':int}\n",
    "\n",
    "sales = pd.read_csv('kc_house_data.csv', dtype=dtype_dict)"
   ]
  },
  {
   "cell_type": "code",
   "execution_count": 2,
   "metadata": {
    "collapsed": false
   },
   "outputs": [
    {
     "data": {
      "text/html": [
       "<div>\n",
       "<table border=\"1\" class=\"dataframe\">\n",
       "  <thead>\n",
       "    <tr style=\"text-align: right;\">\n",
       "      <th></th>\n",
       "      <th>id</th>\n",
       "      <th>date</th>\n",
       "      <th>price</th>\n",
       "      <th>bedrooms</th>\n",
       "      <th>bathrooms</th>\n",
       "      <th>sqft_living</th>\n",
       "      <th>sqft_lot</th>\n",
       "      <th>floors</th>\n",
       "      <th>waterfront</th>\n",
       "      <th>view</th>\n",
       "      <th>...</th>\n",
       "      <th>grade</th>\n",
       "      <th>sqft_above</th>\n",
       "      <th>sqft_basement</th>\n",
       "      <th>yr_built</th>\n",
       "      <th>yr_renovated</th>\n",
       "      <th>zipcode</th>\n",
       "      <th>lat</th>\n",
       "      <th>long</th>\n",
       "      <th>sqft_living15</th>\n",
       "      <th>sqft_lot15</th>\n",
       "    </tr>\n",
       "  </thead>\n",
       "  <tbody>\n",
       "    <tr>\n",
       "      <th>0</th>\n",
       "      <td>7129300520</td>\n",
       "      <td>20141013T000000</td>\n",
       "      <td>221900</td>\n",
       "      <td>3</td>\n",
       "      <td>1.00</td>\n",
       "      <td>1180</td>\n",
       "      <td>5650</td>\n",
       "      <td>1</td>\n",
       "      <td>0</td>\n",
       "      <td>0</td>\n",
       "      <td>...</td>\n",
       "      <td>7</td>\n",
       "      <td>1180</td>\n",
       "      <td>0</td>\n",
       "      <td>1955</td>\n",
       "      <td>0</td>\n",
       "      <td>98178</td>\n",
       "      <td>47.5112</td>\n",
       "      <td>-122.257</td>\n",
       "      <td>1340</td>\n",
       "      <td>5650</td>\n",
       "    </tr>\n",
       "    <tr>\n",
       "      <th>1</th>\n",
       "      <td>6414100192</td>\n",
       "      <td>20141209T000000</td>\n",
       "      <td>538000</td>\n",
       "      <td>3</td>\n",
       "      <td>2.25</td>\n",
       "      <td>2570</td>\n",
       "      <td>7242</td>\n",
       "      <td>2</td>\n",
       "      <td>0</td>\n",
       "      <td>0</td>\n",
       "      <td>...</td>\n",
       "      <td>7</td>\n",
       "      <td>2170</td>\n",
       "      <td>400</td>\n",
       "      <td>1951</td>\n",
       "      <td>1991</td>\n",
       "      <td>98125</td>\n",
       "      <td>47.7210</td>\n",
       "      <td>-122.319</td>\n",
       "      <td>1690</td>\n",
       "      <td>7639</td>\n",
       "    </tr>\n",
       "    <tr>\n",
       "      <th>2</th>\n",
       "      <td>5631500400</td>\n",
       "      <td>20150225T000000</td>\n",
       "      <td>180000</td>\n",
       "      <td>2</td>\n",
       "      <td>1.00</td>\n",
       "      <td>770</td>\n",
       "      <td>10000</td>\n",
       "      <td>1</td>\n",
       "      <td>0</td>\n",
       "      <td>0</td>\n",
       "      <td>...</td>\n",
       "      <td>6</td>\n",
       "      <td>770</td>\n",
       "      <td>0</td>\n",
       "      <td>1933</td>\n",
       "      <td>0</td>\n",
       "      <td>98028</td>\n",
       "      <td>47.7379</td>\n",
       "      <td>-122.233</td>\n",
       "      <td>2720</td>\n",
       "      <td>8062</td>\n",
       "    </tr>\n",
       "    <tr>\n",
       "      <th>3</th>\n",
       "      <td>2487200875</td>\n",
       "      <td>20141209T000000</td>\n",
       "      <td>604000</td>\n",
       "      <td>4</td>\n",
       "      <td>3.00</td>\n",
       "      <td>1960</td>\n",
       "      <td>5000</td>\n",
       "      <td>1</td>\n",
       "      <td>0</td>\n",
       "      <td>0</td>\n",
       "      <td>...</td>\n",
       "      <td>7</td>\n",
       "      <td>1050</td>\n",
       "      <td>910</td>\n",
       "      <td>1965</td>\n",
       "      <td>0</td>\n",
       "      <td>98136</td>\n",
       "      <td>47.5208</td>\n",
       "      <td>-122.393</td>\n",
       "      <td>1360</td>\n",
       "      <td>5000</td>\n",
       "    </tr>\n",
       "    <tr>\n",
       "      <th>4</th>\n",
       "      <td>1954400510</td>\n",
       "      <td>20150218T000000</td>\n",
       "      <td>510000</td>\n",
       "      <td>3</td>\n",
       "      <td>2.00</td>\n",
       "      <td>1680</td>\n",
       "      <td>8080</td>\n",
       "      <td>1</td>\n",
       "      <td>0</td>\n",
       "      <td>0</td>\n",
       "      <td>...</td>\n",
       "      <td>8</td>\n",
       "      <td>1680</td>\n",
       "      <td>0</td>\n",
       "      <td>1987</td>\n",
       "      <td>0</td>\n",
       "      <td>98074</td>\n",
       "      <td>47.6168</td>\n",
       "      <td>-122.045</td>\n",
       "      <td>1800</td>\n",
       "      <td>7503</td>\n",
       "    </tr>\n",
       "  </tbody>\n",
       "</table>\n",
       "<p>5 rows × 21 columns</p>\n",
       "</div>"
      ],
      "text/plain": [
       "           id             date   price  bedrooms  bathrooms  sqft_living  \\\n",
       "0  7129300520  20141013T000000  221900         3       1.00         1180   \n",
       "1  6414100192  20141209T000000  538000         3       2.25         2570   \n",
       "2  5631500400  20150225T000000  180000         2       1.00          770   \n",
       "3  2487200875  20141209T000000  604000         4       3.00         1960   \n",
       "4  1954400510  20150218T000000  510000         3       2.00         1680   \n",
       "\n",
       "   sqft_lot  floors  waterfront  view     ...      grade  sqft_above  \\\n",
       "0      5650       1           0     0     ...          7        1180   \n",
       "1      7242       2           0     0     ...          7        2170   \n",
       "2     10000       1           0     0     ...          6         770   \n",
       "3      5000       1           0     0     ...          7        1050   \n",
       "4      8080       1           0     0     ...          8        1680   \n",
       "\n",
       "   sqft_basement  yr_built  yr_renovated  zipcode      lat     long  \\\n",
       "0              0      1955             0    98178  47.5112 -122.257   \n",
       "1            400      1951          1991    98125  47.7210 -122.319   \n",
       "2              0      1933             0    98028  47.7379 -122.233   \n",
       "3            910      1965             0    98136  47.5208 -122.393   \n",
       "4              0      1987             0    98074  47.6168 -122.045   \n",
       "\n",
       "   sqft_living15  sqft_lot15  \n",
       "0           1340        5650  \n",
       "1           1690        7639  \n",
       "2           2720        8062  \n",
       "3           1360        5000  \n",
       "4           1800        7503  \n",
       "\n",
       "[5 rows x 21 columns]"
      ]
     },
     "execution_count": 2,
     "metadata": {},
     "output_type": "execute_result"
    }
   ],
   "source": [
    "sales.head()"
   ]
  },
  {
   "cell_type": "code",
   "execution_count": 4,
   "metadata": {
    "collapsed": true
   },
   "outputs": [],
   "source": [
    "from math import log, sqrt\n",
    "sales['sqft_living_sqrt'] = sales['sqft_living'].apply(sqrt)\n",
    "sales['sqft_lot_sqrt'] = sales['sqft_lot'].apply(sqrt)\n",
    "sales['bedrooms_square'] = sales['bedrooms']*sales['bedrooms']\n",
    "sales['floors_square'] = sales['floors']*sales['floors']"
   ]
  },
  {
   "cell_type": "code",
   "execution_count": 5,
   "metadata": {
    "collapsed": false
   },
   "outputs": [
    {
     "data": {
      "text/plain": [
       "Lasso(alpha=500.0, copy_X=True, fit_intercept=True, max_iter=1000,\n",
       "   normalize=True, positive=False, precompute=False, random_state=None,\n",
       "   selection='cyclic', tol=0.0001, warm_start=False)"
      ]
     },
     "execution_count": 5,
     "metadata": {},
     "output_type": "execute_result"
    }
   ],
   "source": [
    "from sklearn import linear_model\n",
    "\n",
    "all_features = ['bedrooms', 'bedrooms_square',\n",
    "            'bathrooms',\n",
    "            'sqft_living', 'sqft_living_sqrt',\n",
    "            'sqft_lot', 'sqft_lot_sqrt',\n",
    "            'floors', 'floors_square',\n",
    "            'waterfront', 'view', 'condition', 'grade',\n",
    "            'sqft_above',\n",
    "            'sqft_basement',\n",
    "            'yr_built', 'yr_renovated']\n",
    "\n",
    "model_all = linear_model.Lasso(alpha=5e2, normalize=True)\n",
    "model_all.fit(sales[all_features], sales['price'])"
   ]
  },
  {
   "cell_type": "code",
   "execution_count": 7,
   "metadata": {
    "collapsed": false
   },
   "outputs": [
    {
     "name": "stdout",
     "output_type": "stream",
     "text": [
      "('bedrooms', 0.0)\n",
      "('bedrooms_square', 0.0)\n",
      "('bathrooms', 0.0)\n",
      "('sqft_living', 134.43931395540994)\n",
      "('sqft_living_sqrt', 0.0)\n",
      "('sqft_lot', 0.0)\n",
      "('sqft_lot_sqrt', 0.0)\n",
      "('floors', 0.0)\n",
      "('floors_square', 0.0)\n",
      "('waterfront', 0.0)\n",
      "('view', 24750.00458561413)\n",
      "('condition', 0.0)\n",
      "('grade', 61749.103090711164)\n",
      "('sqft_above', 0.0)\n",
      "('sqft_basement', 0.0)\n",
      "('yr_built', -0.0)\n",
      "('yr_renovated', 0.0)\n"
     ]
    }
   ],
   "source": [
    "for j in range(len(all_features)):\n",
    "    print(all_features[j], model_all.coef_[j])"
   ]
  },
  {
   "cell_type": "code",
   "execution_count": 15,
   "metadata": {
    "collapsed": true
   },
   "outputs": [],
   "source": [
    "def transform(data):\n",
    "    data['sqft_living_sqrt'] = data['sqft_living'].apply(sqrt)\n",
    "    data['sqft_lot_sqrt'] = data['sqft_lot'].apply(sqrt)\n",
    "    data['bedrooms_square'] = data['bedrooms']*data['bedrooms']\n",
    "    data['floors_square'] = data['floors']*data['floors']\n",
    "    return data"
   ]
  },
  {
   "cell_type": "code",
   "execution_count": 16,
   "metadata": {
    "collapsed": true
   },
   "outputs": [],
   "source": [
    "testing = transform(pd.read_csv('wk3_kc_house_test_data.csv', dtype=dtype_dict))\n",
    "training = transform(pd.read_csv('wk3_kc_house_train_data.csv', dtype=dtype_dict))\n",
    "validation = transform(pd.read_csv('wk3_kc_house_valid_data.csv', dtype=dtype_dict))"
   ]
  },
  {
   "cell_type": "code",
   "execution_count": 44,
   "metadata": {
    "collapsed": false
   },
   "outputs": [
    {
     "name": "stdout",
     "output_type": "stream",
     "text": [
      "=====================\n",
      "10.0 error = 41329873098.1 non-zeros 15\n",
      "=====================\n",
      "14.3844988829 error = 41186490290.0 non-zeros 15\n",
      "=====================\n",
      "20.6913808111 error = 41122044821.3 non-zeros 15\n",
      "=====================\n",
      "29.7635144163 error = 41330102187.3 non-zeros 15\n",
      "=====================\n",
      "42.8133239872 error = 42229087547.5 non-zeros 13\n",
      "=====================\n",
      "61.5848211066 error = 44073429215.4 non-zeros 12\n",
      "=====================\n",
      "88.586679041 error = 44411656350.2 non-zeros 11\n",
      "=====================\n",
      "127.42749857 error = 45186785376.5 non-zeros 10\n",
      "=====================\n",
      "183.298071083 error = 45989332253.4 non-zeros 7\n",
      "=====================\n",
      "263.665089873 error = 47138211693.1 non-zeros 6\n",
      "=====================\n",
      "379.269019073 error = 49624595831.0 non-zeros 6\n",
      "=====================\n",
      "545.559478117 error = 55152795211.9 non-zeros 6\n",
      "=====================\n",
      "784.759970351 error = 61654728207.0 non-zeros 5\n",
      "=====================\n",
      "1128.83789168 error = 69959436428.2 non-zeros 3\n",
      "=====================\n",
      "1623.77673919 error = 83301443780.3 non-zeros 3\n",
      "=====================\n",
      "2335.72146909 error = 110145848767.0 non-zeros 2\n",
      "=====================\n",
      "3359.81828628 error = 126881874357.0 non-zeros 1\n",
      "=====================\n",
      "4832.93023857 error = 126881874357.0 non-zeros 1\n",
      "=====================\n",
      "6951.92796178 error = 126881874357.0 non-zeros 1\n",
      "=====================\n",
      "10000.0 error = 126881874357.0 non-zeros 1\n",
      "minn =  41122044821.3\n"
     ]
    }
   ],
   "source": [
    "import numpy as np\n",
    "minn = 1e100\n",
    "for l1_penalty in np.logspace(1, 4, num=20):\n",
    "    model = linear_model.Lasso(alpha=l1_penalty, normalize=True)\n",
    "    model.fit(training[all_features], training['price'])\n",
    "    pred = model.predict(validation[all_features])\n",
    "    print(\"=====================\")\n",
    "    #print(pred[:10], validation['price'][:10], pred[:10] - validation['price'][:10])\n",
    "    error = sum((pred - validation['price']) ** 2) / len(validation)\n",
    "    non_zeros = np.count_nonzero(model.coef_) + np.count_nonzero(model.intercept_)\n",
    "    minn = min(minn, error)\n",
    "    print(str(l1_penalty) + \" error = \" + str(error) + \" non-zeros \" + str(non_zeros ))\n",
    "print(\"minn =  \" + str(minn))"
   ]
  },
  {
   "cell_type": "code",
   "execution_count": 46,
   "metadata": {
    "collapsed": true
   },
   "outputs": [],
   "source": [
    "l1_penalty_min = 127.42\n",
    "l1_penalty_max = 263.66"
   ]
  },
  {
   "cell_type": "code",
   "execution_count": 32,
   "metadata": {
    "collapsed": false
   },
   "outputs": [],
   "source": [
    "start = 0\n",
    "finish = 1e10\n",
    "while finish - start > 0.01:\n",
    "    middle = (start + finish) / 2\n",
    "    model = linear_model.Lasso(alpha=middle, normalize=True)\n",
    "    model.fit(training[all_features], training['price'])\n",
    "    non_zeros = np.count_nonzero(model.coef_) + np.count_nonzero(model.intercept_)\n",
    "    if non_zeros > 7:\n",
    "        start = middle\n",
    "    else:\n",
    "        finish = middle\n",
    "l1_penalty_min = start"
   ]
  },
  {
   "cell_type": "code",
   "execution_count": 33,
   "metadata": {
    "collapsed": true
   },
   "outputs": [],
   "source": [
    "start = 0\n",
    "finish = 1e10\n",
    "while finish - start > 0.01:\n",
    "    middle = (start + finish) / 2\n",
    "    model = linear_model.Lasso(alpha=middle, normalize=True)\n",
    "    model.fit(training[all_features], training['price'])\n",
    "    non_zeros = np.count_nonzero(model.coef_) + np.count_nonzero(model.intercept_)\n",
    "    if non_zeros < 7:\n",
    "        finish = middle\n",
    "    else:\n",
    "        start = middle\n",
    "l1_penalty_max = start"
   ]
  },
  {
   "cell_type": "code",
   "execution_count": 34,
   "metadata": {
    "collapsed": false
   },
   "outputs": [
    {
     "name": "stdout",
     "output_type": "stream",
     "text": [
      "(153.57727534137666, 206.19154383894056)\n"
     ]
    }
   ],
   "source": [
    "print(l1_penalty_min, l1_penalty_max)"
   ]
  },
  {
   "cell_type": "code",
   "execution_count": 47,
   "metadata": {
    "collapsed": false
   },
   "outputs": [
    {
     "name": "stdout",
     "output_type": "stream",
     "text": [
      "127.42 error = 45186613759.9 non-zeros 10\n",
      "134.590526316 error = 45356252612.3 non-zeros 10\n",
      "141.761052632 error = 45483677334.3 non-zeros 8\n",
      "148.931578947 error = 45579448913.9 non-zeros 8\n",
      "156.102105263 error = 45670645648.1 non-zeros 7\n",
      "163.272631579 error = 45747458044.2 non-zeros 7\n",
      "170.443157895 error = 45829365104.7 non-zeros 7\n",
      "177.613684211 error = 45916514347.9 non-zeros 7\n",
      "184.784210526 error = 46008914259.8 non-zeros 7\n",
      "191.954736842 error = 46106790264.3 non-zeros 7\n",
      "199.125263158 error = 46209637480.6 non-zeros 7\n",
      "206.295789474 error = 46317404871.0 non-zeros 6\n",
      "213.466315789 error = 46405002457.4 non-zeros 6\n",
      "220.636842105 error = 46496881029.9 non-zeros 6\n",
      "227.807368421 error = 46593041062.0 non-zeros 6\n",
      "234.977894737 error = 46693482553.8 non-zeros 6\n",
      "242.148421053 error = 46798205841.1 non-zeros 6\n",
      "249.318947368 error = 46907278530.9 non-zeros 6\n",
      "256.489473684 error = 47020562042.9 non-zeros 6\n",
      "263.66 error = 47138126721.2 non-zeros 6\n"
     ]
    }
   ],
   "source": [
    "for l1_penalty in np.linspace(l1_penalty_min,l1_penalty_max,20):\n",
    "    model = linear_model.Lasso(alpha=l1_penalty, normalize=True)\n",
    "    model.fit(training[all_features], training['price'])\n",
    "    pred = model.predict(validation[all_features])\n",
    "    error = sum((pred - validation['price']) ** 2) / len(validation)\n",
    "    non_zeros = np.count_nonzero(model.coef_) + np.count_nonzero(model.intercept_)\n",
    "    minn = min(minn, error)\n",
    "    print(str(l1_penalty) + \" error = \" + str(error) + \" non-zeros \" + str(non_zeros ))"
   ]
  },
  {
   "cell_type": "code",
   "execution_count": 48,
   "metadata": {
    "collapsed": false
   },
   "outputs": [
    {
     "name": "stdout",
     "output_type": "stream",
     "text": [
      "('bedrooms', -0.0)\n",
      "('bedrooms_square', -0.0)\n",
      "('bathrooms', 10612.804924695865)\n",
      "('sqft_living', 163.37964773139075)\n",
      "('sqft_living_sqrt', 0.0)\n",
      "('sqft_lot', -0.0)\n",
      "('sqft_lot_sqrt', -0.0)\n",
      "('floors', 0.0)\n",
      "('floors_square', 0.0)\n",
      "('waterfront', 506458.93562342186)\n",
      "('view', 41960.19841855827)\n",
      "('condition', 0.0)\n",
      "('grade', 116254.50464355544)\n",
      "('sqft_above', 0.0)\n",
      "('sqft_basement', 0.0)\n",
      "('yr_built', -2612.3011354856285)\n",
      "('yr_renovated', 0.0)\n"
     ]
    }
   ],
   "source": [
    "model = linear_model.Lasso(alpha=156.1, normalize=True)\n",
    "model.fit(training[all_features], training['price'])\n",
    "for j in range(len(all_features)):\n",
    "    print(all_features[j], model.coef_[j])\n"
   ]
  },
  {
   "cell_type": "code",
   "execution_count": null,
   "metadata": {
    "collapsed": true
   },
   "outputs": [],
   "source": []
  }
 ],
 "metadata": {
  "kernelspec": {
   "display_name": "Python 2",
   "language": "python",
   "name": "python2"
  },
  "language_info": {
   "codemirror_mode": {
    "name": "ipython",
    "version": 2
   },
   "file_extension": ".py",
   "mimetype": "text/x-python",
   "name": "python",
   "nbconvert_exporter": "python",
   "pygments_lexer": "ipython2",
   "version": "2.7.12"
  }
 },
 "nbformat": 4,
 "nbformat_minor": 0
}
