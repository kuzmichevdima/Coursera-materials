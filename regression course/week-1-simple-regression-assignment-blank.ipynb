{
 "cells": [
  {
   "cell_type": "markdown",
   "metadata": {},
   "source": [
    "# Regression Week 1: Simple Linear Regression"
   ]
  },
  {
   "cell_type": "markdown",
   "metadata": {},
   "source": [
    "In this notebook we will use data on house sales in King County to predict house prices using simple (one input) linear regression. You will:\n",
    "* Use graphlab SArray and SFrame functions to compute important summary statistics\n",
    "* Write a function to compute the Simple Linear Regression weights using the closed form solution\n",
    "* Write a function to make predictions of the output given the input feature\n",
    "* Turn the regression around to predict the input given the output\n",
    "* Compare two different models for predicting house prices\n",
    "\n",
    "In this notebook you will be provided with some already complete code as well as some code that you should complete yourself in order to answer quiz questions. The code we provide to complte is optional and is there to assist you with solving the problems but feel free to ignore the helper code and write your own."
   ]
  },
  {
   "cell_type": "markdown",
   "metadata": {},
   "source": [
    "# Fire up graphlab create"
   ]
  },
  {
   "cell_type": "code",
   "execution_count": 1,
   "metadata": {
    "collapsed": false
   },
   "outputs": [
    {
     "name": "stderr",
     "output_type": "stream",
     "text": [
      "A newer version of GraphLab Create (v1.7.1) is available! Your current version is v1.6.1.\n",
      "\n",
      "You can use pip to upgrade the graphlab-create package. For more information see https://dato.com/products/create/upgrade.\n"
     ]
    }
   ],
   "source": [
    "import graphlab"
   ]
  },
  {
   "cell_type": "markdown",
   "metadata": {},
   "source": [
    "# Load house sales data\n",
    "\n",
    "Dataset is from house sales in King County, the region where the city of Seattle, WA is located."
   ]
  },
  {
   "cell_type": "code",
   "execution_count": 3,
   "metadata": {
    "collapsed": false
   },
   "outputs": [],
   "source": [
    "sales = graphlab.SFrame('kc_house_data.gl/')"
   ]
  },
  {
   "cell_type": "markdown",
   "metadata": {},
   "source": [
    "# Split data into training and testing"
   ]
  },
  {
   "cell_type": "markdown",
   "metadata": {},
   "source": [
    "We use seed=0 so that everyone running this notebook gets the same results.  In practice, you may set a random seed (or let GraphLab Create pick a random seed for you).  "
   ]
  },
  {
   "cell_type": "code",
   "execution_count": 26,
   "metadata": {
    "collapsed": false
   },
   "outputs": [
    {
     "data": {
      "application/javascript": [
       "$(\"head\").append($(\"<link/>\").attr({\n",
       "  rel:  \"stylesheet\",\n",
       "  type: \"text/css\",\n",
       "  href: \"//cdnjs.cloudflare.com/ajax/libs/font-awesome/4.1.0/css/font-awesome.min.css\"\n",
       "}));\n",
       "$(\"head\").append($(\"<link/>\").attr({\n",
       "  rel:  \"stylesheet\",\n",
       "  type: \"text/css\",\n",
       "  href: \"//dato.com/files/canvas/1.6.1/css/canvas.css\"\n",
       "}));\n",
       "\n",
       "            (function(){\n",
       "\n",
       "                var e = null;\n",
       "                if (typeof element == 'undefined') {\n",
       "                    var scripts = document.getElementsByTagName('script');\n",
       "                    var thisScriptTag = scripts[scripts.length-1];\n",
       "                    var parentDiv = thisScriptTag.parentNode;\n",
       "                    e = document.createElement('div');\n",
       "                    parentDiv.appendChild(e);\n",
       "                } else {\n",
       "                    e = element[0];\n",
       "                }\n",
       "\n",
       "                if (typeof requirejs !== 'undefined') {\n",
       "                    // disable load timeout; ipython_app.js is large and can take a while to load.\n",
       "                    requirejs.config({waitSeconds: 0});\n",
       "                }\n",
       "\n",
       "                require(['//dato.com/files/canvas/1.6.1/js/ipython_app.js'], function(IPythonApp){\n",
       "                    var app = new IPythonApp();\n",
       "                    app.attachView('sframe','Plots', {\"selected_variable\": {\"name\": [\"train_data\"], \"descriptives\": {\"rows\": 17384, \"columns\": 21}, \"view_component\": \"Plots\", \"view_file\": \"sframe\", \"view_params\": {\"y\": \"price\", \"x\": \"sqft_living\", \"columns\": [\"id\", \"date\", \"price\", \"bedrooms\", \"bathrooms\", \"sqft_living\", \"sqft_lot\", \"floors\", \"waterfront\", \"view\", \"condition\", \"grade\", \"sqft_above\", \"sqft_basement\", \"yr_built\", \"yr_renovated\", \"zipcode\", \"lat\", \"long\", \"sqft_living15\", \"sqft_lot15\"], \"view\": \"Scatter Plot\"}, \"view_components\": [\"Summary\", \"Table\", \"Bar Chart\", \"BoxWhisker Plot\", \"Line Chart\", \"Scatter Plot\", \"Heat Map\", \"Plots\"], \"type\": \"SFrame\", \"columns\": [{\"dtype\": \"str\", \"name\": \"id\"}, {\"dtype\": \"datetime\", \"name\": \"date\"}, {\"dtype\": \"float\", \"name\": \"price\"}, {\"dtype\": \"float\", \"name\": \"bedrooms\"}, {\"dtype\": \"float\", \"name\": \"bathrooms\"}, {\"dtype\": \"float\", \"name\": \"sqft_living\"}, {\"dtype\": \"int\", \"name\": \"sqft_lot\"}, {\"dtype\": \"str\", \"name\": \"floors\"}, {\"dtype\": \"int\", \"name\": \"waterfront\"}, {\"dtype\": \"int\", \"name\": \"view\"}, {\"dtype\": \"int\", \"name\": \"condition\"}, {\"dtype\": \"int\", \"name\": \"grade\"}, {\"dtype\": \"int\", \"name\": \"sqft_above\"}, {\"dtype\": \"int\", \"name\": \"sqft_basement\"}, {\"dtype\": \"int\", \"name\": \"yr_built\"}, {\"dtype\": \"int\", \"name\": \"yr_renovated\"}, {\"dtype\": \"str\", \"name\": \"zipcode\"}, {\"dtype\": \"float\", \"name\": \"lat\"}, {\"dtype\": \"float\", \"name\": \"long\"}, {\"dtype\": \"float\", \"name\": \"sqft_living15\"}, {\"dtype\": \"float\", \"name\": \"sqft_lot15\"}], \"column_identifiers\": [\"bathrooms\", \"sqft_living15\", \"sqft_above\", \"grade\", \"yr_built\", \"price\", \"bedrooms\", \"zipcode\", \"long\", \"id\", \"sqft_lot15\", \"sqft_living\", \"floors\", \"sqft_lot\", \"date\", \"waterfront\", \"sqft_basement\", \"yr_renovated\", \"lat\", \"condition\", \"view\"]}, \"complete\": 1, \"ipython\": true, \"progress\": 1.0, \"data\": [[3910.0, 1650000.0], [980.0, 334900.0], [1260.0, 449500.0], [2130.0, 310000.0], [1220.0, 177500.0], [2811.0, 455000.0], [3320.0, 792000.0], [1650.0, 500000.0], [1630.0, 431000.0], [1140.0, 158000.0], [1830.0, 260000.0], [1220.0, 260000.0], [1150.0, 214100.0], [1760.0, 310000.0], [2260.0, 604000.0], [2280.0, 356000.0], [2380.0, 370000.0], [2052.0, 349900.0], [3090.0, 549950.0], [1120.0, 243950.0], [1940.0, 315000.0], [1800.0, 450000.0], [2250.0, 569000.0], [2450.0, 937000.0], [2154.0, 390000.0], [2180.0, 470000.0], [2600.0, 790000.0], [1010.0, 200000.0], [1180.0, 343000.0], [2050.0, 528000.0], [920.0, 365000.0], [1200.0, 255000.0], [5330.0, 1125000.0], [2240.0, 1080000.0], [2780.0, 1250000.0], [2890.0, 502000.0], [2050.0, 750000.0], [1250.0, 210000.0], [2110.0, 305495.0], [3560.0, 896000.0], [2190.0, 1289000.0], [850.0, 308500.0], [2740.0, 706000.0], [1550.0, 430000.0], [2270.0, 435000.0], [2120.0, 475226.0], [2240.0, 497000.0], [2020.0, 335000.0], [2620.0, 597500.0], [2670.0, 405000.0], [910.0, 265000.0], [1750.0, 340000.0], [5067.0, 452000.0], [2460.0, 1370000.0], [1560.0, 310000.0], [2660.0, 915000.0], [1340.0, 466200.0], [2640.0, 880000.0], [3970.0, 811500.0], [3830.0, 710000.0], [2790.0, 535365.0], [5545.0, 937500.0], [2800.0, 255000.0], [2810.0, 340000.0], [3300.0, 1250000.0], [3050.0, 740000.0], [2090.0, 290000.0], [2020.0, 420000.0], [4150.0, 635000.0], [1240.0, 315000.0], [1590.0, 290000.0], [1210.0, 299900.0], [1590.0, 529000.0], [3220.0, 689000.0], [3100.0, 800000.0], [2220.0, 350000.0], [1060.0, 295000.0], [2100.0, 800000.0], [1280.0, 193000.0], [940.0, 260000.0], [4930.0, 835000.0], [2740.0, 730000.0], [2190.0, 465000.0], [1300.0, 515000.0], [2160.0, 756000.0], [3210.0, 690000.0], [1690.0, 385000.0], [1980.0, 555000.0], [1160.0, 458500.0], [1590.0, 372500.0], [2520.0, 750000.0], [1280.0, 367400.0], [1640.0, 577500.0], [3700.0, 415000.0], [1550.0, 350000.0], [2630.0, 650000.0], [3510.0, 1007500.0], [3290.0, 680000.0], [1870.0, 245000.0], [1550.0, 349900.0], [1630.0, 497000.0], [3780.0, 970000.0], [1570.0, 171800.0], [3370.0, 1325000.0], [1970.0, 530000.0], [1710.0, 273148.0], [2310.0, 470000.0], [1320.0, 284000.0], [1280.0, 232000.0], [1220.0, 317500.0], [2950.0, 739000.0], [2220.0, 607500.0], [1440.0, 567500.0], [1890.0, 270000.0], [1350.0, 160000.0], [1320.0, 459000.0], [2150.0, 559500.0], [2140.0, 675000.0], [1320.0, 199000.0], [1970.0, 454000.0], [3320.0, 508000.0], [2350.0, 1015000.0], [1770.0, 327500.0], [2220.0, 427000.0], [1820.0, 425000.0], [920.0, 212500.0], [1800.0, 533000.0], [3120.0, 375000.0], [1780.0, 631500.0], [1460.0, 445000.0], [2650.0, 425000.0], [2090.0, 865000.0], [1750.0, 472500.0], [1500.0, 418000.0], [1580.0, 296500.0], [1300.0, 175000.0], [1910.0, 250000.0], [1910.0, 580000.0], [2930.0, 445000.0], [2150.0, 810000.0], [1290.0, 200000.0], [3090.0, 974350.0], [1340.0, 269950.0], [1640.0, 261490.0], [1340.0, 399000.0], [1890.0, 462000.0], [1540.0, 542000.0], [7270.0, 2238888.0], [3020.0, 530000.0], [2980.0, 750000.0], [2220.0, 532500.0], [1440.0, 252000.0], [1300.0, 690000.0], [1510.0, 310000.0], [720.0, 314000.0], [2810.0, 535000.0], [1500.0, 549000.0], [4890.0, 1780000.0], [3850.0, 925000.0], [1440.0, 250000.0], [2510.0, 624000.0], [1720.0, 255000.0], [1460.0, 258500.0], [2140.0, 799000.0], [3040.0, 1230000.0], [2310.0, 470000.0], [4690.0, 2048000.0], [1510.0, 248000.0], [2540.0, 335000.0], [1088.0, 250000.0], [1940.0, 1151250.0], [1310.0, 373000.0], [2240.0, 315000.0], [1470.0, 254000.0], [1720.0, 323000.0], [2930.0, 915000.0], [1954.0, 340000.0], [1440.0, 439950.0], [1410.0, 490000.0], [2080.0, 480000.0], [1020.0, 280000.0], [1370.0, 276200.0], [2620.0, 635000.0], [1170.0, 581000.0], [1430.0, 394900.0], [1140.0, 660000.0], [1280.0, 300000.0], [2190.0, 587450.0], [3320.0, 675000.0], [3290.0, 695000.0], [2070.0, 262000.0], [2680.0, 775000.0], [2480.0, 599000.0], [2990.0, 814950.0], [1250.0, 459500.0], [2640.0, 1220000.0], [4110.0, 935000.0], [1900.0, 252500.0], [2100.0, 465000.0], [1740.0, 199950.0], [2390.0, 787500.0], [2090.0, 536650.0], [2960.0, 835000.0], [760.0, 190000.0], [1240.0, 445000.0], [1950.0, 580000.0], [3370.0, 825000.0], [1530.0, 302000.0], [1000.0, 715000.0], [1140.0, 474000.0], [1630.0, 610000.0], [2490.0, 442500.0], [1780.0, 620000.0], [1730.0, 575700.0], [820.0, 265000.0], [2120.0, 249000.0], [2360.0, 385000.0], [1410.0, 230000.0], [1410.0, 405000.0], [1640.0, 527000.0], [3540.0, 2200000.0], [1710.0, 571900.0], [1982.0, 283200.0], [2510.0, 706000.0], [1180.0, 399500.0], [1240.0, 270000.0], [2340.0, 392000.0], [2240.0, 590000.0], [1860.0, 291000.0], [3410.0, 774950.0], [1250.0, 282000.0], [1760.0, 400000.0], [1220.0, 452000.0], [2370.0, 684680.0], [2550.0, 406250.0], [2210.0, 455000.0], [2240.0, 1350000.0], [3500.0, 797000.0], [2860.0, 750500.0], [1020.0, 435500.0], [2900.0, 675000.0], [1820.0, 278000.0], [1690.0, 430000.0], [4700.0, 1242000.0], [1540.0, 450000.0], [1280.0, 473000.0], [3730.0, 1775000.0], [2110.0, 772000.0], [1940.0, 488000.0], [1950.0, 485000.0], [810.0, 260600.0], [3210.0, 825000.0], [2740.0, 495000.0], [1990.0, 309000.0], [2400.0, 570000.0], [1940.0, 665000.0], [2180.0, 506000.0], [2740.0, 483500.0], [2370.0, 834000.0], [1400.0, 259950.0], [2060.0, 450000.0], [2520.0, 307000.0], [2590.0, 487000.0], [2390.0, 695000.0], [4210.0, 900000.0], [3150.0, 819900.0], [720.0, 199900.0], [2110.0, 535000.0], [1320.0, 475000.0], [1650.0, 433190.0], [4490.0, 1680000.0], [1920.0, 465000.0], [3940.0, 933399.0], [1250.0, 463000.0], [2580.0, 775000.0], [1480.0, 483945.0], [4030.0, 835000.0], [1530.0, 880000.0], [2630.0, 589000.0], [1780.0, 336000.0], [1550.0, 324000.0], [3260.0, 538000.0], [1570.0, 555000.0], [1100.0, 570000.0], [1960.0, 256500.0], [1250.0, 575000.0], [2840.0, 870000.0], [2410.0, 614905.0], [2300.0, 325000.0], [2200.0, 475000.0], [2420.0, 550000.0], [1880.0, 310000.0], [1650.0, 475000.0], [1770.0, 350000.0], [810.0, 229000.0], [3890.0, 1802750.0], [2080.0, 442000.0], [1750.0, 247000.0], [3200.0, 350000.0], [3450.0, 380000.0], [3680.0, 700000.0], [1800.0, 522000.0], [2015.0, 988500.0], [3200.0, 1445000.0], [1210.0, 402000.0], [1979.0, 339000.0], [3700.0, 1295000.0], [2290.0, 465000.0], [3760.0, 740000.0], [4800.0, 1350000.0], [1730.0, 267950.0], [2590.0, 537250.0], [1140.0, 230000.0], [1800.0, 272750.0], [3130.0, 1010000.0], [1220.0, 330000.0], [1510.0, 489000.0], [3270.0, 939000.0], [1350.0, 499950.0], [2360.0, 577000.0], [1400.0, 474800.0], [2570.0, 449000.0], [1870.0, 375000.0], [2130.0, 593450.0], [2260.0, 599000.0], [1090.0, 406000.0], [1450.0, 320000.0], [4700.0, 900000.0], [1810.0, 487500.0], [3040.0, 815000.0], [3140.0, 775000.0], [3230.0, 1385000.0], [800.0, 404500.0], [1720.0, 286900.0], [1650.0, 485000.0], [3020.0, 1185000.0], [2640.0, 490000.0], [1370.0, 405000.0], [1150.0, 300000.0], [990.0, 490000.0], [2220.0, 370000.0], [2130.0, 316000.0], [1140.0, 582500.0], [1860.0, 625000.0], [1190.0, 215000.0], [2410.0, 648000.0], [2840.0, 739000.0], [1520.0, 360000.0], [1790.0, 670950.0], [2398.0, 400000.0], [1470.0, 240000.0], [2310.0, 309950.0], [1920.0, 400000.0], [1850.0, 315000.0], [1870.0, 262000.0], [2340.0, 475000.0], [1970.0, 405000.0], [1100.0, 220000.0], [1630.0, 445000.0], [2110.0, 345950.0], [1920.0, 480000.0], [920.0, 310000.0], [1770.0, 495000.0], [2330.0, 700000.0], [880.0, 372500.0], [1810.0, 266490.0], [1100.0, 192500.0], [1840.0, 550000.0], [3480.0, 2500000.0], [1870.0, 565000.0], [900.0, 550000.0], [1830.0, 550000.0], [3670.0, 820000.0], [1090.0, 344950.0], [720.0, 403000.0], [3700.0, 489000.0], [3240.0, 574000.0], [2100.0, 305000.0], [1080.0, 115000.0], [3580.0, 760000.0], [980.0, 133000.0], [1870.0, 432000.0], [1700.0, 423000.0], [4410.0, 1320000.0], [3110.0, 875000.0], [990.0, 285000.0], [3800.0, 2395000.0], [2810.0, 699900.0], [2100.0, 759950.0], [1310.0, 237950.0], [750.0, 258000.0], [2180.0, 650000.0], [4600.0, 2408000.0], [1380.0, 550000.0], [2780.0, 705000.0], [1710.0, 637000.0], [2660.0, 772650.0], [870.0, 166000.0], [1800.0, 265000.0], [1080.0, 185000.0], [2070.0, 337500.0], [2990.0, 445000.0], [4030.0, 1485000.0], [1210.0, 710000.0], [6670.0, 2998000.0], [2370.0, 399888.0], [1580.0, 253000.0], [2040.0, 775000.0], [2920.0, 680000.0], [2400.0, 1388000.0], [1990.0, 625000.0], [1050.0, 445000.0], [1660.0, 270000.0], [1860.0, 440000.0], [3160.0, 693000.0], [3310.0, 1250000.0], [1790.0, 240000.0], [1170.0, 360000.0], [1330.0, 355000.0], [1770.0, 500000.0], [2160.0, 520000.0], [2310.0, 589500.0], [2070.0, 675000.0], [1380.0, 320000.0], [2000.0, 399950.0], [4630.0, 809000.0], [1590.0, 310000.0], [2120.0, 530000.0], [2640.0, 462000.0], [2100.0, 457000.0], [1540.0, 640000.0], [1360.0, 239000.0], [2260.0, 628000.0], [720.0, 205000.0], [1120.0, 315000.0], [900.0, 219000.0], [2570.0, 479950.0], [1510.0, 675000.0], [3400.0, 815000.0], [1140.0, 704000.0], [2130.0, 1300000.0], [2510.0, 750000.0], [1580.0, 400000.0], [2870.0, 880000.0], [3180.0, 850000.0], [1490.0, 348000.0], [1430.0, 580000.0], [3070.0, 1105000.0], [850.0, 325000.0], [530.0, 400000.0], [1250.0, 235000.0], [5600.0, 1089000.0], [1700.0, 284700.0], [1780.0, 760000.0], [880.0, 210000.0], [2260.0, 560000.0], [700.0, 367000.0], [880.0, 460000.0], [2290.0, 570000.0], [3030.0, 819995.0], [3670.0, 920000.0], [3860.0, 470000.0], [1630.0, 490000.0], [3180.0, 900000.0], [940.0, 212700.0], [740.0, 255000.0], [2020.0, 317000.0], [1020.0, 460000.0], [1320.0, 475000.0], [2660.0, 545000.0], [2170.0, 592500.0], [5510.0, 3800000.0], [750.0, 258305.0], [1410.0, 215000.0], [3490.0, 1050000.0], [920.0, 179000.0], [3550.0, 469000.0], [1830.0, 347500.0], [1960.0, 275000.0], [1060.0, 641200.0], [1310.0, 291750.0], [2470.0, 445000.0], [1700.0, 280000.0], [1450.0, 650000.0], [1520.0, 525000.0], [1100.0, 474000.0], [2130.0, 707000.0], [1960.0, 478000.0], [3210.0, 1289000.0], [910.0, 165000.0], [2010.0, 639000.0], [1740.0, 677915.0], [1400.0, 246000.0], [990.0, 325000.0], [920.0, 535000.0], [930.0, 465000.0], [1350.0, 261000.0], [740.0, 304700.0], [1430.0, 510000.0], [2810.0, 450000.0], [1480.0, 418000.0], [1620.0, 290000.0], [2120.0, 493000.0], [1410.0, 700000.0], [2500.0, 530000.0], [1540.0, 216650.0], [2430.0, 524000.0], [1650.0, 320000.0], [3390.0, 583000.0], [3820.0, 550000.0], [990.0, 399000.0], [1960.0, 371000.0], [1060.0, 169500.0], [2380.0, 655500.0], [2390.0, 645500.0], [2060.0, 435000.0], [1920.0, 325000.0], [1400.0, 553000.0], [1470.0, 350000.0], [1820.0, 875000.0], [2020.0, 495000.0], [1010.0, 387000.0], [1660.0, 578000.0], [1640.0, 475000.0], [1290.0, 323000.0], [1640.0, 710000.0], [1400.0, 450000.0], [2180.0, 657000.0], [1400.0, 218500.0], [1900.0, 278000.0], [2270.0, 287000.0], [2330.0, 565000.0], [2350.0, 555000.0], [1790.0, 302000.0], [1810.0, 300000.0], [1120.0, 188000.0], [2760.0, 492500.0], [1490.0, 670000.0], [3470.0, 994000.0], [3550.0, 580000.0], [2140.0, 346150.0], [1680.0, 219200.0], [2700.0, 470000.0], [810.0, 325000.0], [1290.0, 653000.0], [2420.0, 597400.0], [940.0, 121800.0], [2250.0, 950000.0], [2303.0, 329995.0], [1620.0, 525000.0], [1987.0, 255000.0], [1330.0, 209000.0], [3690.0, 1580000.0], [1730.0, 300000.0], [1280.0, 389000.0], [4285.0, 1890000.0], [1260.0, 312620.0], [1570.0, 340000.0], [1040.0, 687500.0], [2390.0, 462500.0], [7440.0, 4208000.0], [4310.0, 1735000.0], [3400.0, 745000.0], [2000.0, 538000.0], [1890.0, 378000.0], [3180.0, 736500.0], [3330.0, 911100.0], [1550.0, 405000.0], [1322.0, 215000.0], [1470.0, 241000.0], [1300.0, 267000.0], [1930.0, 280000.0], [1010.0, 189000.0], [1760.0, 554000.0], [2110.0, 677100.0], [2910.0, 998000.0], [1820.0, 229000.0], [1990.0, 185000.0], [640.0, 279200.0], [2260.0, 489000.0], [2940.0, 464500.0], [1410.0, 352500.0], [1322.0, 350000.0], [2980.0, 825000.0], [893.0, 359950.0], [3290.0, 515000.0], [830.0, 271115.0], [2940.0, 560000.0], [3950.0, 1780000.0], [1710.0, 650000.0], [1510.0, 435000.0], [1420.0, 192500.0], [2950.0, 495000.0], [1900.0, 235000.0], [1790.0, 263000.0], [4250.0, 1530000.0], [1620.0, 280500.0], [2080.0, 368000.0], [2820.0, 720000.0], [980.0, 144000.0], [1810.0, 400000.0], [1560.0, 515000.0], [2220.0, 334990.0], [1620.0, 577000.0], [3210.0, 785000.0], [1840.0, 390000.0], [2120.0, 316000.0], [2880.0, 780000.0], [3260.0, 800000.0], [1070.0, 505000.0], [2210.0, 620000.0], [3430.0, 1290000.0], [2520.0, 849000.0], [1760.0, 440000.0], [2070.0, 312000.0], [1790.0, 420000.0], [1580.0, 299980.0], [3080.0, 1280000.0], [2600.0, 748000.0], [2900.0, 630000.0], [1040.0, 440000.0], [2000.0, 415000.0], [1920.0, 295000.0], [1580.0, 402000.0], [1060.0, 403504.0], [1980.0, 357000.0], [1360.0, 499950.0], [2050.0, 639888.0], [2500.0, 305000.0], [1490.0, 271500.0], [1480.0, 440000.0], [4690.0, 1015000.0], [2210.0, 589000.0], [4150.0, 1950000.0], [2390.0, 358000.0], [4930.0, 1465000.0], [1260.0, 188200.0], [1460.0, 392137.0], [1180.0, 419000.0], [2300.0, 465000.0], [4770.0, 1475000.0], [1520.0, 230000.0], [1320.0, 529000.0], [1050.0, 198500.0], [1930.0, 390000.0], [780.0, 146000.0], [2710.0, 515805.0], [2240.0, 500000.0], [1430.0, 288000.0], [2350.0, 754000.0], [1750.0, 300000.0], [3440.0, 549000.0], [2510.0, 510000.0], [2540.0, 1190000.0], [2610.0, 659000.0], [2100.0, 344000.0], [2370.0, 655000.0], [1250.0, 480000.0], [990.0, 179000.0], [1500.0, 249900.0], [2440.0, 525000.0], [2080.0, 248000.0], [1660.0, 491000.0], [2605.0, 1017000.0], [1940.0, 780000.0], [1520.0, 241000.0], [1700.0, 472500.0], [3090.0, 1170000.0], [2310.0, 815000.0], [1470.0, 449950.0], [3530.0, 908990.0], [2550.0, 711000.0], [1220.0, 280000.0], [1850.0, 405000.0], [3020.0, 975000.0], [2600.0, 600000.0], [2480.0, 585000.0], [1830.0, 419995.0], [1200.0, 225000.0], [1390.0, 261350.0], [3080.0, 550000.0], [2290.0, 481000.0], [1360.0, 280000.0], [1840.0, 433000.0], [1480.0, 547000.0], [3660.0, 730000.0], [1920.0, 245000.0], [1900.0, 550000.0], [2100.0, 299000.0], [1190.0, 312000.0], [2800.0, 490000.0], [1070.0, 164000.0], [2080.0, 898888.0], [1960.0, 434400.0], [830.0, 334500.0], [680.0, 275000.0], [1500.0, 348000.0], [2200.0, 573500.0], [1950.0, 409000.0], [790.0, 90000.0], [2210.0, 330000.0], [1310.0, 526500.0], [1560.0, 275000.0], [2170.0, 546800.0], [3220.0, 590000.0], [1880.0, 625000.0], [1580.0, 359000.0], [1990.0, 760500.0], [2270.0, 475000.0], [1610.0, 250000.0], [1480.0, 865000.0], [3780.0, 782000.0], [3810.0, 839900.0], [3350.0, 550000.0], [1130.0, 485000.0], [2260.0, 605000.0], [2320.0, 324950.0], [3160.0, 655000.0], [1510.0, 400000.0], [2430.0, 445000.0], [1750.0, 660000.0], [1970.0, 625000.0], [1320.0, 350000.0], [2040.0, 265000.0], [1330.0, 552100.0], [1430.0, 427500.0], [1370.0, 280000.0], [2181.0, 340000.0], [1650.0, 453000.0], [3230.0, 530000.0], [3120.0, 380000.0], [4230.0, 875000.0], [1765.0, 250000.0], [3570.0, 835000.0], [1980.0, 637000.0], [3600.0, 461000.0], [2370.0, 913888.0], [2570.0, 390000.0], [870.0, 183000.0], [2840.0, 585000.0], [2890.0, 1100000.0], [770.0, 212000.0], [2300.0, 740000.0], [1920.0, 595000.0], [1680.0, 466000.0], [3650.0, 696000.0], [2360.0, 569900.0], [4390.0, 971000.0], [960.0, 406000.0], [1010.0, 450000.0], [2020.0, 520000.0], [1860.0, 265500.0], [1890.0, 475000.0], [2090.0, 619400.0], [4410.0, 765000.0], [800.0, 325000.0], [1690.0, 400375.0], [1840.0, 274900.0], [2000.0, 459950.0], [4960.0, 1355000.0], [1590.0, 295500.0], [2070.0, 425000.0], [2840.0, 372000.0], [1400.0, 267500.0], [1330.0, 482500.0], [4130.0, 995000.0], [1810.0, 387000.0], [2820.0, 1450000.0], [7390.0, 5300000.0], [1430.0, 375000.0], [2090.0, 546200.0], [2223.0, 320000.0], [1330.0, 532500.0], [2770.0, 475000.0], [3510.0, 674950.0], [2000.0, 755000.0], [2160.0, 670000.0], [1590.0, 305000.0], [1860.0, 799950.0], [2640.0, 593000.0], [2360.0, 459000.0], [2920.0, 1050000.0], [2580.0, 260000.0], [3490.0, 692000.0], [3160.0, 645000.0], [2480.0, 525000.0], [1540.0, 449950.0], [1230.0, 549000.0], [1720.0, 280000.0], [1930.0, 360000.0], [2160.0, 585000.0], [1260.0, 531000.0], [2230.0, 333500.0], [2860.0, 411000.0], [1570.0, 450000.0], [1030.0, 189950.0], [2500.0, 1700000.0], [930.0, 190000.0], [1630.0, 540000.0], [1930.0, 530000.0], [2630.0, 1297000.0], [1210.0, 375000.0], [2040.0, 345000.0], [1520.0, 738000.0], [1790.0, 350000.0], [1590.0, 409900.0], [1050.0, 400000.0], [2020.0, 532000.0], [1010.0, 350000.0], [2270.0, 812000.0], [1440.0, 285000.0], [2910.0, 410000.0], [2020.0, 320000.0], [2250.0, 675000.0], [3180.0, 1411600.0], [1180.0, 600000.0], [3120.0, 800000.0], [4480.0, 1990000.0], [2620.0, 499990.0], [3500.0, 1010000.0], [1240.0, 400000.0], [1240.0, 345000.0], [2290.0, 653000.0], [2340.0, 459900.0], [3320.0, 950000.0], [690.0, 139000.0], [1590.0, 375000.0], [1240.0, 235000.0], [2630.0, 430000.0], [2440.0, 675000.0], [2390.0, 647000.0], [1700.0, 545000.0], [2030.0, 525000.0], [2040.0, 525000.0], [1730.0, 292000.0], [2005.0, 491000.0], [1230.0, 184900.0], [2620.0, 678500.0], [1970.0, 475000.0], [1510.0, 593777.0], [2770.0, 572000.0], [2650.0, 559950.0], [1670.0, 245000.0], [1240.0, 192000.0], [1070.0, 327000.0], [2390.0, 516250.0], [680.0, 291970.0], [1220.0, 223000.0], [3000.0, 760000.0], [2880.0, 820000.0], [2710.0, 951250.0], [1240.0, 529950.0], [1280.0, 525000.0], [1040.0, 234000.0], [2700.0, 338150.0], [1490.0, 312000.0], [1800.0, 250000.0], [1640.0, 303100.0], [1260.0, 425000.0], [2230.0, 652450.0], [710.0, 480000.0], [1070.0, 240000.0], [1880.0, 324900.0], [1160.0, 345000.0], [1088.0, 238000.0], [1510.0, 227000.0], [2530.0, 340000.0], [1050.0, 400000.0], [3280.0, 458000.0], [1600.0, 465000.0], [3030.0, 998000.0], [4930.0, 600000.0], [940.0, 430000.0], [1560.0, 435000.0], [1020.0, 187000.0], [2540.0, 600000.0], [2600.0, 475000.0], [1670.0, 620000.0], [5190.0, 2900000.0], [810.0, 237500.0], [2490.0, 616000.0], [3400.0, 464000.0], [2950.0, 600000.0], [1520.0, 546800.0], [2340.0, 529000.0], [2550.0, 675000.0], [1630.0, 395000.0], [3610.0, 587000.0], [2200.0, 370000.0], [3070.0, 753000.0], [2414.0, 292000.0], [2060.0, 410000.0], [720.0, 338500.0], [2990.0, 500000.0], [1090.0, 197000.0], [1200.0, 306000.0], [4690.0, 600000.0], [790.0, 330000.0], [1660.0, 290000.0], [3550.0, 685000.0], [860.0, 330000.0], [1380.0, 426000.0], [1600.0, 645000.0], [1770.0, 183750.0], [2410.0, 446800.0], [1160.0, 317000.0], [1470.0, 215000.0], [1290.0, 781000.0], [2050.0, 480000.0], [780.0, 286000.0], [1550.0, 430000.0], [3490.0, 952000.0], [3360.0, 850000.0], [3050.0, 1038000.0], [1720.0, 230000.0], [5470.0, 975000.0], [1050.0, 800000.0], [1840.0, 510000.0], [1390.0, 315000.0], [4230.0, 887500.0], [2620.0, 443000.0], [3550.0, 2100000.0], [3920.0, 1650000.0], [990.0, 354000.0], [1240.0, 675000.0], [1310.0, 195000.0], [1290.0, 500000.0], [2440.0, 274700.0], [3320.0, 679990.0], [3750.0, 782500.0], [2660.0, 605000.0], [940.0, 370000.0], [2020.0, 513000.0], [2680.0, 800000.0], [1530.0, 425000.0], [2250.0, 287500.0], [2100.0, 270000.0], [1100.0, 339000.0], [2250.0, 645000.0], [2700.0, 383962.0], [1150.0, 325000.0], [2000.0, 375000.0], [3060.0, 864000.0], [1730.0, 350000.0], [2540.0, 265000.0], [670.0, 190000.0], [2890.0, 1100000.0], [1640.0, 415000.0], [2550.0, 547500.0], [1714.0, 305000.0], [1250.0, 450000.0], [4610.0, 630000.0], [2190.0, 463000.0], [1840.0, 472800.0], [1690.0, 277500.0], [2140.0, 680000.0], [2770.0, 890000.0], [1960.0, 560000.0], [2190.0, 665000.0], [2500.0, 539900.0], [2130.0, 525000.0], [1250.0, 443725.0], [2820.0, 934000.0], [1960.0, 342000.0], [3140.0, 780000.0], [3530.0, 760000.0], [2170.0, 850000.0], [2190.0, 294000.0], [4640.0, 1348000.0], [900.0, 400000.0], [1460.0, 306000.0], [3760.0, 851000.0], [1320.0, 366000.0], [3000.0, 680000.0], [2840.0, 717550.0], [1420.0, 410000.0], [1580.0, 349900.0], [1600.0, 260000.0], [1250.0, 350000.0], [1280.0, 297000.0], [1710.0, 405000.0], [2300.0, 312891.0], [3450.0, 905000.0], [1440.0, 370000.0], [1960.0, 535000.0], [3770.0, 925000.0], [1430.0, 450000.0], [2610.0, 439000.0], [1830.0, 312000.0], [2490.0, 370000.0], [2440.0, 484000.0], [2030.0, 440000.0], [710.0, 187250.0], [1570.0, 419000.0], [3530.0, 2367000.0], [2510.0, 685000.0], [3070.0, 340500.0], [4040.0, 860000.0], [2860.0, 1200000.0], [1300.0, 750000.0]], \"columns\": [{\"dtype\": \"str\", \"name\": \"id\"}, {\"dtype\": \"datetime\", \"name\": \"date\"}, {\"dtype\": \"float\", \"name\": \"price\"}, {\"dtype\": \"float\", \"name\": \"bedrooms\"}, {\"dtype\": \"float\", \"name\": \"bathrooms\"}, {\"dtype\": \"float\", \"name\": \"sqft_living\"}, {\"dtype\": \"int\", \"name\": \"sqft_lot\"}, {\"dtype\": \"str\", \"name\": \"floors\"}, {\"dtype\": \"int\", \"name\": \"waterfront\"}, {\"dtype\": \"int\", \"name\": \"view\"}, {\"dtype\": \"int\", \"name\": \"condition\"}, {\"dtype\": \"int\", \"name\": \"grade\"}, {\"dtype\": \"int\", \"name\": \"sqft_above\"}, {\"dtype\": \"int\", \"name\": \"sqft_basement\"}, {\"dtype\": \"int\", \"name\": \"yr_built\"}, {\"dtype\": \"int\", \"name\": \"yr_renovated\"}, {\"dtype\": \"str\", \"name\": \"zipcode\"}, {\"dtype\": \"float\", \"name\": \"lat\"}, {\"dtype\": \"float\", \"name\": \"long\"}, {\"dtype\": \"float\", \"name\": \"sqft_living15\"}, {\"dtype\": \"float\", \"name\": \"sqft_lot15\"}]}, e);\n",
       "                });\n",
       "            })();\n",
       "        "
      ]
     },
     "metadata": {},
     "output_type": "display_data"
    }
   ],
   "source": [
    "train_data,test_data = sales.random_split(.8,seed=0)\n",
    "graphlab.canvas.set_target('ipynb')\n",
    "train_data.show(view=\"Scatter Plot\", x=\"sqft_living\", y=\"price\")"
   ]
  },
  {
   "cell_type": "markdown",
   "metadata": {},
   "source": [
    "# Useful SFrame summary functions"
   ]
  },
  {
   "cell_type": "markdown",
   "metadata": {},
   "source": [
    "In order to make use of the closed form solution as well as take advantage of graphlab's built in functions we will review some important ones. In particular:\n",
    "* Computing the sum of an SArray\n",
    "* Computing the arithmetic average (mean) of an SArray\n",
    "* multiplying SArrays by constants\n",
    "* multiplying SArrays by other SArrays"
   ]
  },
  {
   "cell_type": "code",
   "execution_count": 5,
   "metadata": {
    "collapsed": false
   },
   "outputs": [
    {
     "name": "stdout",
     "output_type": "stream",
     "text": [
      "average price via method 1: 540088.141905\n",
      "average price via method 2: 540088.141905\n"
     ]
    }
   ],
   "source": [
    "# Let's compute the mean of the House Prices in King County in 2 different ways.\n",
    "prices = sales['price'] # extract the price column of the sales SFrame -- this is now an SArray\n",
    "\n",
    "# recall that the arithmetic average (the mean) is the sum of the prices divided by the total number of houses:\n",
    "sum_prices = prices.sum()\n",
    "num_houses = prices.size() # when prices is an SArray .size() returns its length\n",
    "avg_price_1 = sum_prices/num_houses\n",
    "avg_price_2 = prices.mean() # if you just want the average, the .mean() function\n",
    "print \"average price via method 1: \" + str(avg_price_1)\n",
    "print \"average price via method 2: \" + str(avg_price_2)"
   ]
  },
  {
   "cell_type": "markdown",
   "metadata": {},
   "source": [
    "As we see we get the same answer both ways"
   ]
  },
  {
   "cell_type": "code",
   "execution_count": 6,
   "metadata": {
    "collapsed": false
   },
   "outputs": [
    {
     "name": "stdout",
     "output_type": "stream",
     "text": [
      "the sum of price squared is: 9.21732513355e+15\n"
     ]
    }
   ],
   "source": [
    "# if we want to multiply every price by 0.5 it's a simple as:\n",
    "half_prices = 0.5*prices\n",
    "# Let's compute the sum of squares of price. We can multiply two SArrays of the same length elementwise also with *\n",
    "prices_squared = prices*prices\n",
    "sum_prices_squared = prices_squared.sum() # price_squared is an SArray of the squares and we want to add them up.\n",
    "print \"the sum of price squared is: \" + str(sum_prices_squared)"
   ]
  },
  {
   "cell_type": "markdown",
   "metadata": {},
   "source": [
    "Aside: The python notation x.xxe+yy means x.xx \\* 10^(yy). e.g 100 = 10^2 = 1*10^2 = 1e2 "
   ]
  },
  {
   "cell_type": "markdown",
   "metadata": {},
   "source": [
    "# Build a generic simple linear regression function "
   ]
  },
  {
   "cell_type": "markdown",
   "metadata": {},
   "source": [
    "Armed with these SArray functions we can use the closed form solution found from lecture to compute the slope and intercept for a simple linear regression on observations stored as SArrays: input_feature, output.\n",
    "\n",
    "Complete the following function (or write your own) to compute the simple linear regression slope and intercept:"
   ]
  },
  {
   "cell_type": "code",
   "execution_count": 41,
   "metadata": {
    "collapsed": false
   },
   "outputs": [],
   "source": [
    "def simple_linear_regression(X, Y):\n",
    "    N = len(X)\n",
    "    sumX = X.sum()\n",
    "    sumY = Y.sum()\n",
    "    sumXsqr = reduce(lambda x, y : x + y**2, X)\n",
    "    sumXY = 0\n",
    "    for i in range(N):\n",
    "        sumXY += X[i] * Y[i]\n",
    "    #print(sumX, sumY, sumXY)\n",
    "    slope = (sumXY - sumX * sumY * 1.0 / N) * 1.0 / (sumXsqr - sumX ** 2 * 1.0 / N)\n",
    "    intercept = (-slope * sumX + sumY) * 1.0 / N\n",
    "    # compute the sum of input_feature and output\n",
    "    \n",
    "    # compute the product of the output and the input_feature and its sum\n",
    "    \n",
    "    # compute the squared value of the input_feature and its sum\n",
    "    \n",
    "    # use the formula for the slope\n",
    "    \n",
    "    # use the formula for the intercept\n",
    "    \n",
    "    return (intercept, slope)"
   ]
  },
  {
   "cell_type": "markdown",
   "metadata": {},
   "source": [
    "We can test that our function works by passing it something where we know the answer. In particular we can generate a feature and then put the output exactly on a line: output = 1 + 1\\*input_feature then we know both our slope and intercept should be 1"
   ]
  },
  {
   "cell_type": "code",
   "execution_count": 48,
   "metadata": {
    "collapsed": false,
    "scrolled": true
   },
   "outputs": [
    {
     "name": "stdout",
     "output_type": "stream",
     "text": [
      "Intercept: 5.0\n",
      "Slope: 3.0\n"
     ]
    }
   ],
   "source": [
    "test_feature = graphlab.SArray(range(5))\n",
    "test_output = graphlab.SArray(5 + 3*test_feature)\n",
    "(test_intercept, test_slope) =  simple_linear_regression(test_feature, test_output)\n",
    "print \"Intercept: \" + str(test_intercept) # should print 5.0\n",
    "print \"Slope: \" + str(test_slope) # should print 3.0"
   ]
  },
  {
   "cell_type": "markdown",
   "metadata": {},
   "source": [
    "Now that we know it works let's build a regression model for predicting price based on sqft_living. Rembember that we train on train_data!"
   ]
  },
  {
   "cell_type": "code",
   "execution_count": 49,
   "metadata": {
    "collapsed": false
   },
   "outputs": [
    {
     "name": "stdout",
     "output_type": "stream",
     "text": [
      "Intercept: -47171.3419563\n",
      "Slope: 281.985408086\n"
     ]
    }
   ],
   "source": [
    "sqft_intercept, sqft_slope = simple_linear_regression(train_data['sqft_living'], train_data['price'])\n",
    "\n",
    "print \"Intercept: \" + str(sqft_intercept)\n",
    "print \"Slope: \" + str(sqft_slope)"
   ]
  },
  {
   "cell_type": "markdown",
   "metadata": {},
   "source": [
    "# Predicting Values"
   ]
  },
  {
   "cell_type": "markdown",
   "metadata": {},
   "source": [
    "Now that we have the model parameters: intercept & slope we can make predictions. Using SArrays it's easy to multiply an SArray by a constant and add a constant value. Complete the following function to return the predicted output given the input_feature, slope and intercept:"
   ]
  },
  {
   "cell_type": "code",
   "execution_count": 50,
   "metadata": {
    "collapsed": false
   },
   "outputs": [],
   "source": [
    "def get_regression_predictions(input_feature, intercept, slope):\n",
    "    \n",
    "    return intercept + slope * input_feature"
   ]
  },
  {
   "cell_type": "markdown",
   "metadata": {},
   "source": [
    "Now that we can calculate a prediction given the slope and intercept let's make a prediction. Use (or alter) the following to find out the estimated price for a house with 2650 squarefeet according to the squarefeet model we estiamted above.\n",
    "\n",
    "**Quiz Question: Using your Slope and Intercept from (4), What is the predicted price for a house with 2650 sqft?**"
   ]
  },
  {
   "cell_type": "code",
   "execution_count": 51,
   "metadata": {
    "collapsed": false
   },
   "outputs": [
    {
     "name": "stdout",
     "output_type": "stream",
     "text": [
      "The estimated price for a house with 2650 squarefeet is $700089.98947\n"
     ]
    }
   ],
   "source": [
    "my_house_sqft = 2650\n",
    "estimated_price = get_regression_predictions(my_house_sqft, sqft_intercept, sqft_slope)\n",
    "print \"The estimated price for a house with %d squarefeet is $%.5f\" % (my_house_sqft, estimated_price)"
   ]
  },
  {
   "cell_type": "markdown",
   "metadata": {},
   "source": [
    "# Residual Sum of Squares"
   ]
  },
  {
   "cell_type": "markdown",
   "metadata": {},
   "source": [
    "Now that we have a model and can make predictions let's evaluate our model using Residual Sum of Squares (RSS). Recall that RSS is the sum of the squares of the residuals and the residuals is just a fancy word for the difference between the predicted output and the true output. \n",
    "\n",
    "Complete the following (or write your own) function to compute the RSS of a simple linear regression model given the input_feature, output, intercept and slope:"
   ]
  },
  {
   "cell_type": "code",
   "execution_count": 23,
   "metadata": {
    "collapsed": true
   },
   "outputs": [],
   "source": [
    "def get_residual_sum_of_squares(input_feature, output, intercept, slope):\n",
    "    RSS = 0\n",
    "    for i in range(len(input_feature)):\n",
    "        RSS += (input_feature[i] * slope + intercept - output[i]) ** 2\n",
    "\n",
    "    return(RSS)"
   ]
  },
  {
   "cell_type": "markdown",
   "metadata": {},
   "source": [
    "Let's test our get_residual_sum_of_squares function by applying it to the test model where the data lie exactly on a line. Since they lie exactly on a line the residual sum of squares should be zero!"
   ]
  },
  {
   "cell_type": "code",
   "execution_count": 24,
   "metadata": {
    "collapsed": false
   },
   "outputs": [
    {
     "name": "stdout",
     "output_type": "stream",
     "text": [
      "0.0\n"
     ]
    }
   ],
   "source": [
    "print get_residual_sum_of_squares(test_feature, test_output, test_intercept, test_slope) # should be 0.0"
   ]
  },
  {
   "cell_type": "markdown",
   "metadata": {},
   "source": [
    "Now use your function to calculate the RSS on training data from the squarefeet model calculated above.\n",
    "\n",
    "**Quiz Question: According to this function and the slope and intercept from the squarefeet model What is the RSS for the simple linear regression using squarefeet to predict prices on TRAINING data?**"
   ]
  },
  {
   "cell_type": "code",
   "execution_count": 25,
   "metadata": {
    "collapsed": false
   },
   "outputs": [
    {
     "name": "stdout",
     "output_type": "stream",
     "text": [
      "The RSS of predicting Prices based on Square Feet is : 1.20191836675e+15\n"
     ]
    }
   ],
   "source": [
    "rss_prices_on_sqft = get_residual_sum_of_squares(train_data['sqft_living'], train_data['price'], sqft_intercept, sqft_slope)\n",
    "print 'The RSS of predicting Prices based on Square Feet is : ' + str(rss_prices_on_sqft)"
   ]
  },
  {
   "cell_type": "markdown",
   "metadata": {},
   "source": [
    "# Predict the squarefeet given price"
   ]
  },
  {
   "cell_type": "markdown",
   "metadata": {},
   "source": [
    "What if we want to predict the squarefoot given the price? Since we have an equation y = a + b\\*x we can solve the function for x. So that if we have the intercept (a) and the slope (b) and the price (y) we can solve for the estimated squarefeet (x).\n",
    "\n",
    "Comlplete the following function to compute the inverse regression estimate, i.e. predict the input_feature given the output!"
   ]
  },
  {
   "cell_type": "code",
   "execution_count": 37,
   "metadata": {
    "collapsed": true
   },
   "outputs": [],
   "source": [
    "def inverse_regression_predictions(output, intercept, slope):\n",
    "    # solve output = intercept + slope*input_feature for input_feature. Use this equation to compute the inverse predictions:\n",
    "\n",
    "    return (output - intercept) * 1.0 / slope"
   ]
  },
  {
   "cell_type": "markdown",
   "metadata": {},
   "source": [
    "Now that we have a function to compute the squarefeet given the price from our simple regression model let's see how big we might expect a house that costs $800,000 to be.\n",
    "\n",
    "**Quiz Question: According to this function and the regression slope and intercept from (3) what is the estimated square-feet for a house costing $800,000?**"
   ]
  },
  {
   "cell_type": "code",
   "execution_count": 38,
   "metadata": {
    "collapsed": false
   },
   "outputs": [
    {
     "name": "stdout",
     "output_type": "stream",
     "text": [
      "The estimated squarefeet for a house worth $800000.00 is 3004\n"
     ]
    }
   ],
   "source": [
    "my_house_price = 800000\n",
    "estimated_squarefeet = inverse_regression_predictions(my_house_price, sqft_intercept, sqft_slope)\n",
    "print \"The estimated squarefeet for a house worth $%.2f is %d\" % (my_house_price, estimated_squarefeet)"
   ]
  },
  {
   "cell_type": "markdown",
   "metadata": {},
   "source": [
    "# New Model: estimate prices from bedrooms"
   ]
  },
  {
   "cell_type": "markdown",
   "metadata": {},
   "source": [
    "We have made one model for predicting house prices using squarefeet, but there are many other features in the sales SFrame. \n",
    "Use your simple linear regression function to estimate the regression parameters from predicting Prices based on number of bedrooms. Use the training data!"
   ]
  },
  {
   "cell_type": "code",
   "execution_count": 32,
   "metadata": {
    "collapsed": false
   },
   "outputs": [
    {
     "name": "stdout",
     "output_type": "stream",
     "text": [
      "bedroom Intercept: 109292.519097\n",
      "bedroom Slope: 127642.571031\n"
     ]
    }
   ],
   "source": [
    "# Estimate the slope and intercept for predicting 'price' based on 'bedrooms'\n",
    "bedroom_intercept, bedroom_slope = simple_linear_regression(train_data['bedrooms'], train_data['price'])\n",
    "\n",
    "print \"bedroom Intercept: \" + str(bedroom_intercept)\n",
    "print \"bedroom Slope: \" + str(bedroom_slope)\n"
   ]
  },
  {
   "cell_type": "markdown",
   "metadata": {},
   "source": [
    "# Test your Linear Regression Algorithm"
   ]
  },
  {
   "cell_type": "markdown",
   "metadata": {},
   "source": [
    "Now we have two models for predicting the price of a house. How do we know which one is better? Calculate the RSS on the TEST data (remember this data wasn't involved in learning the model). Compute the RSS from predicting prices using bedrooms and from predicting prices using squarefeet.\n",
    "\n",
    "**Quiz Question: Which model (square feet or bedrooms) has lowest RSS on TEST data? Think about why this might be the case.**"
   ]
  },
  {
   "cell_type": "code",
   "execution_count": 33,
   "metadata": {
    "collapsed": false
   },
   "outputs": [],
   "source": [
    "# Compute RSS when using bedrooms on TEST data:\n",
    "RSS_bedrooms = get_residual_sum_of_squares(test_data['bedrooms'], test_data['price'], bedroom_intercept, bedroom_slope)"
   ]
  },
  {
   "cell_type": "code",
   "execution_count": 34,
   "metadata": {
    "collapsed": false
   },
   "outputs": [],
   "source": [
    "# Compute RSS when using squarefeet on TEST data:\n",
    "RSS_sqft = get_residual_sum_of_squares(test_data['sqft_living'], test_data['price'], sqft_intercept, sqft_slope)"
   ]
  },
  {
   "cell_type": "code",
   "execution_count": 35,
   "metadata": {
    "collapsed": false
   },
   "outputs": [
    {
     "name": "stdout",
     "output_type": "stream",
     "text": [
      "(493376367433099.75, 275404232349129.1)\n"
     ]
    }
   ],
   "source": [
    "print(RSS_bedrooms, RSS_sqft)"
   ]
  },
  {
   "cell_type": "code",
   "execution_count": 39,
   "metadata": {
    "collapsed": false
   },
   "outputs": [
    {
     "name": "stdout",
     "output_type": "stream",
     "text": [
      "2.17972135084e+14\n"
     ]
    }
   ],
   "source": [
    "print(RSS_bedrooms - RSS_sqft)"
   ]
  },
  {
   "cell_type": "code",
   "execution_count": null,
   "metadata": {
    "collapsed": true
   },
   "outputs": [],
   "source": []
  }
 ],
 "metadata": {
  "kernelspec": {
   "display_name": "Python 2",
   "language": "python",
   "name": "python2"
  },
  "language_info": {
   "codemirror_mode": {
    "name": "ipython",
    "version": 2
   },
   "file_extension": ".py",
   "mimetype": "text/x-python",
   "name": "python",
   "nbconvert_exporter": "python",
   "pygments_lexer": "ipython2",
   "version": "2.7.9"
  }
 },
 "nbformat": 4,
 "nbformat_minor": 0
}
