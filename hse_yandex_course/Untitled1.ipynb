{
 "metadata": {
  "name": "",
  "signature": "sha256:76cacacdcdebac167758478dc2a1cfa6b63e523029b43e1d438fd46d30f6d335"
 },
 "nbformat": 3,
 "nbformat_minor": 0,
 "worksheets": [
  {
   "cells": [
    {
     "cell_type": "code",
     "collapsed": false,
     "input": [
      "import pandas\n",
      "data = pandas.read_csv('wine.data')\n",
      "n = len(data)"
     ],
     "language": "python",
     "metadata": {},
     "outputs": [],
     "prompt_number": 42
    },
    {
     "cell_type": "code",
     "collapsed": false,
     "input": [
      "from sklearn.cross_validation import KFold, cross_val_score\n",
      "from sklearn.neighbors import KNeighborsClassifier"
     ],
     "language": "python",
     "metadata": {},
     "outputs": [],
     "prompt_number": 43
    },
    {
     "cell_type": "code",
     "collapsed": false,
     "input": [
      "gen = KFold(n, n_folds=5, shuffle=True, random_state=42)"
     ],
     "language": "python",
     "metadata": {},
     "outputs": [],
     "prompt_number": 44
    },
    {
     "cell_type": "code",
     "collapsed": false,
     "input": [
      "Y = data['Class']\n",
      "X = data.drop('Class', 1)"
     ],
     "language": "python",
     "metadata": {},
     "outputs": [],
     "prompt_number": 45
    },
    {
     "cell_type": "code",
     "collapsed": false,
     "input": [
      "results = []\n",
      "for k in range(1, 51):\n",
      "    classifier = KNeighborsClassifier(n_neighbors=k)\n",
      "    classifier.fit(X, Y)\n",
      "    cv = cross_val_score(classifier, X, Y, cv=gen, scoring='accuracy')\n",
      "    results.append((cv.mean(), k))\n"
     ],
     "language": "python",
     "metadata": {},
     "outputs": [],
     "prompt_number": 50
    },
    {
     "cell_type": "code",
     "collapsed": false,
     "input": [
      "max(results)\n"
     ],
     "language": "python",
     "metadata": {},
     "outputs": [
      {
       "metadata": {},
       "output_type": "pyout",
       "prompt_number": 51,
       "text": [
        "(0.9776190476190475, 29)"
       ]
      }
     ],
     "prompt_number": 51
    },
    {
     "cell_type": "code",
     "collapsed": false,
     "input": [
      "from sklearn.preprocessing import scale"
     ],
     "language": "python",
     "metadata": {},
     "outputs": [],
     "prompt_number": 48
    },
    {
     "cell_type": "code",
     "collapsed": false,
     "input": [
      "X = scale(X)"
     ],
     "language": "python",
     "metadata": {},
     "outputs": [],
     "prompt_number": 49
    },
    {
     "cell_type": "code",
     "collapsed": false,
     "input": [],
     "language": "python",
     "metadata": {},
     "outputs": [
      {
       "metadata": {},
       "output_type": "pyout",
       "prompt_number": 38,
       "text": [
        "array([[-1.21394365,  1.51861254, -0.5622498 , ...,  0.36217728,\n",
        "         1.84791957,  1.01300893],\n",
        "       [-1.21394365,  0.24628963, -0.49941338, ...,  0.40605066,\n",
        "         1.1134493 ,  0.96524152],\n",
        "       [-1.21394365,  0.19687903,  0.02123125, ...,  0.31830389,\n",
        "         0.78858745,  1.39514818],\n",
        "       ..., \n",
        "       [ 1.37386437,  0.33275817,  1.74474449, ..., -1.61212515,\n",
        "        -1.48544548,  0.28057537],\n",
        "       [ 1.37386437,  0.20923168,  0.22769377, ..., -1.56825176,\n",
        "        -1.40069891,  0.29649784],\n",
        "       [ 1.37386437,  1.39508604,  1.58316512, ..., -1.52437837,\n",
        "        -1.42894777, -0.59516041]])"
       ]
      }
     ],
     "prompt_number": 38
    },
    {
     "cell_type": "code",
     "collapsed": false,
     "input": [],
     "language": "python",
     "metadata": {},
     "outputs": []
    }
   ],
   "metadata": {}
  }
 ]
}