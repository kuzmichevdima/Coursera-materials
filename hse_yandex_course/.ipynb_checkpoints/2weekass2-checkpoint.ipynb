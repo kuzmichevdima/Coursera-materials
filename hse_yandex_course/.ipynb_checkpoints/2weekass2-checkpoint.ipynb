{
 "metadata": {
  "name": "",
  "signature": "sha256:a830cb57ff88604e240781aeae9d1aada7ee87388558b69d4628f540983aee3a"
 },
 "nbformat": 3,
 "nbformat_minor": 0,
 "worksheets": []
}