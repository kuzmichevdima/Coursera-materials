{
 "cells": [
  {
   "cell_type": "code",
   "execution_count": 1,
   "metadata": {
    "collapsed": true
   },
   "outputs": [],
   "source": [
    "import pandas\n",
    "df = pandas.read_csv('data.csv')"
   ]
  },
  {
   "cell_type": "code",
   "execution_count": 4,
   "metadata": {
    "collapsed": false
   },
   "outputs": [],
   "source": [
    "X = df.drop('Activity', 1)\n",
    "y = df['Activity']"
   ]
  },
  {
   "cell_type": "code",
   "execution_count": 7,
   "metadata": {
    "collapsed": false
   },
   "outputs": [],
   "source": [
    "from sklearn.cross_validation import train_test_split\n",
    "X_train, X_test, y_train, y_test = train_test_split(X, y, \n",
    "                                      test_size=0.8, \n",
    "                                      random_state=241)"
   ]
  },
  {
   "cell_type": "code",
   "execution_count": 23,
   "metadata": {
    "collapsed": true
   },
   "outputs": [],
   "source": [
    "%matplotlib inline"
   ]
  },
  {
   "cell_type": "code",
   "execution_count": 28,
   "metadata": {
    "collapsed": true
   },
   "outputs": [
    {
     "name": "stdout",
     "output_type": "stream",
     "text": [
      "      Iter       Train Loss   Remaining Time \n",
      "         1           1.2613           19.62s\n",
      "         2           1.1715           18.99s\n",
      "         3           1.1009           19.25s\n",
      "         4           1.0529           18.86s\n",
      "         5           1.0130           18.60s\n",
      "         6           0.9740           18.55s\n",
      "         7           0.9475           17.61s\n",
      "         8           0.9197           17.55s\n",
      "         9           0.8979           16.92s\n",
      "        10           0.8730           16.87s\n",
      "        20           0.7207           14.40s\n",
      "        30           0.6055           13.15s\n",
      "        40           0.5244           12.23s\n",
      "        50           0.4501           11.67s\n",
      "        60           0.3908           10.95s\n",
      "        70           0.3372           10.37s\n",
      "        80           0.3009            9.75s\n",
      "        90           0.2603            9.19s\n",
      "       100           0.2327            8.57s\n",
      "       200           0.0835            2.81s\n",
      "(0.53043981973526533, 36)\n"
     ]
    },
    {
     "data": {
      "image/png": "[encoded data removed]",
      "text/plain": [
       "<matplotlib.figure.Figure at 0x7f4b94d85750>"
      ]
     },
     "metadata": {},
     "output_type": "display_data"
    }
   ],
   "source": [
    "from sklearn.ensemble import GradientBoostingClassifier\n",
    "from sklearn.metrics import log_loss\n",
    "import matplotlib.pyplot as plt\n",
    "\n",
    "import math\n",
    "#for learning_rate in [1, 0.5, 0.3, 0.2, 0.1]:\n",
    "for learning_rate in [0.2]:\n",
    "    boosting = GradientBoostingClassifier(n_estimators=250, verbose=True, random_state=241, learning_rate=learning_rate)\n",
    "    boosting.fit(X_train, y_train)\n",
    "    test_score = []\n",
    "    for i, pred in enumerate(boosting.staged_decision_function(X_test)):\n",
    "        pred1 = map(lambda x : 1.0 / (1 + math.exp(-x)), pred)\n",
    "        test_score.append((log_loss(y_test, pred1), i))\n",
    "    print(min(test_score))\n",
    "    plt.plot(test_score)"
   ]
  },
  {
   "cell_type": "code",
   "execution_count": 88,
   "metadata": {
    "collapsed": false
   },
   "outputs": [
    {
     "name": "stderr",
     "output_type": "stream",
     "text": [
      "[Parallel(n_jobs=1)]: Done  37 out of  37 | elapsed:    0.1s finished\n"
     ]
    },
    {
     "data": {
      "text/plain": [
       "RandomForestClassifier(bootstrap=True, class_weight=None, criterion='gini',\n",
       "            max_depth=None, max_features='auto', max_leaf_nodes=None,\n",
       "            min_samples_leaf=1, min_samples_split=2,\n",
       "            min_weight_fraction_leaf=0.0, n_estimators=37, n_jobs=1,\n",
       "            oob_score=False, random_state=241, verbose=True,\n",
       "            warm_start=False)"
      ]
     },
     "execution_count": 88,
     "metadata": {},
     "output_type": "execute_result"
    }
   ],
   "source": [
    "from sklearn.ensemble import RandomForestClassifier\n",
    "forest = RandomForestClassifier(n_estimators=37, verbose=True, random_state=241)\n",
    "forest.fit(X_train, y_train)"
   ]
  },
  {
   "cell_type": "code",
   "execution_count": 89,
   "metadata": {
    "collapsed": false
   },
   "outputs": [
    {
     "name": "stdout",
     "output_type": "stream",
     "text": [
      "0.540911909937\n"
     ]
    },
    {
     "name": "stderr",
     "output_type": "stream",
     "text": [
      "[Parallel(n_jobs=1)]: Done  37 out of  37 | elapsed:    0.0s finished\n"
     ]
    }
   ],
   "source": [
    "import sklearn\n",
    "forest_pred = forest.predict_proba(X_test)\n",
    "forest_pred = forest_pred[:,1]\n",
    "forest_loss = log_loss(y_test, forest_pred)\n",
    "print(forest_loss)"
   ]
  },
  {
   "cell_type": "code",
   "execution_count": null,
   "metadata": {
    "collapsed": true
   },
   "outputs": [],
   "source": []
  },
  {
   "cell_type": "code",
   "execution_count": null,
   "metadata": {
    "collapsed": true
   },
   "outputs": [],
   "source": []
  }
 ],
 "metadata": {
  "kernelspec": {
   "display_name": "Python 2",
   "language": "python",
   "name": "python2"
  },
  "language_info": {
   "codemirror_mode": {
    "name": "ipython",
    "version": 2
   },
   "file_extension": ".py",
   "mimetype": "text/x-python",
   "name": "python",
   "nbconvert_exporter": "python",
   "pygments_lexer": "ipython2",
   "version": "2.7.11+"
  }
 },
 "nbformat": 4,
 "nbformat_minor": 0
}
