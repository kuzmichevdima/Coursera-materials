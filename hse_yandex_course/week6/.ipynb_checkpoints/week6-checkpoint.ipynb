{
 "cells": [
  {
   "cell_type": "code",
   "execution_count": 6,
   "metadata": {
    "collapsed": false
   },
   "outputs": [],
   "source": [
    "from skimage.io import imread\n",
    "import skimage\n",
    "image = skimage.img_as_float(imread('parrots.jpg'))"
   ]
  },
  {
   "cell_type": "code",
   "execution_count": 8,
   "metadata": {
    "collapsed": false
   },
   "outputs": [
    {
     "data": {
      "text/plain": [
       "(474, 713, 3)"
      ]
     },
     "execution_count": 8,
     "metadata": {},
     "output_type": "execute_result"
    }
   ],
   "source": [
    "image.shape"
   ]
  },
  {
   "cell_type": "code",
   "execution_count": 12,
   "metadata": {
    "collapsed": false
   },
   "outputs": [],
   "source": [
    "X = image.reshape((474*713,3))"
   ]
  },
  {
   "cell_type": "code",
   "execution_count": 49,
   "metadata": {
    "collapsed": false
   },
   "outputs": [],
   "source": [
    "pixel_max = np.max(X)"
   ]
  },
  {
   "cell_type": "code",
   "execution_count": 60,
   "metadata": {
    "collapsed": true
   },
   "outputs": [],
   "source": [
    "from sklearn.cluster import KMeans"
   ]
  },
  {
   "cell_type": "code",
   "execution_count": 58,
   "metadata": {
    "collapsed": false
   },
   "outputs": [],
   "source": [
    "for n_cl in range(8, 20):\n",
    "    kmeans = KMeans(init='k-means++', random_state=241,n_clusters=n_cl)\n",
    "    clasters = kmeans.fit_predict(X)\n",
    "    lst = [[] for x in range(n_cl)]\n",
    "    for i in range(len(clasters)):\n",
    "        lst[clasters[i]].append(X[i])\n",
    "    cl_mean = [0] * 8\n",
    "    cl_med = [0] * 8\n",
    "    for j in range(8):\n",
    "        cl_mean[j] = np.mean(lst[j],axis=0)\n",
    "        cl_med[j] = np.median(lst[j],axis=0)\n",
    "        print(j, cl_mean[j], cl_med[j])\n",
    "    Y_mean = map(lambda c : cl_mean[c], clasters)\n",
    "    Y_med = map(lambda c : cl_med[c], clasters)\n",
    "    print(n_cl, psnr(X, Y_mean), psnr(X, Y_med))"
   ]
  },
  {
   "cell_type": "code",
   "execution_count": null,
   "metadata": {
    "collapsed": false
   },
   "outputs": [],
   "source": [
    "    def psnr(X, Y):\n",
    "        MSE = 0\n",
    "        for i in range(474):\n",
    "            for j in range(713):\n",
    "                for k in range(3):\n",
    "                    MSE += (image[i,j,k] - Y[i * 713 + j][k]) ** 2\n",
    "        MSE = 1.0 * MSE / (474 * 713 * 3)\n",
    "        return 20 * math.log10(pixel_max) - 10 * math.log10(MSE)"
   ]
  },
  {
   "cell_type": "code",
   "execution_count": null,
   "metadata": {
    "collapsed": true
   },
   "outputs": [],
   "source": []
  }
 ],
 "metadata": {
  "kernelspec": {
   "display_name": "Python 2",
   "language": "python",
   "name": "python2"
  },
  "language_info": {
   "codemirror_mode": {
    "name": "ipython",
    "version": 2
   },
   "file_extension": ".py",
   "mimetype": "text/x-python",
   "name": "python",
   "nbconvert_exporter": "python",
   "pygments_lexer": "ipython2",
   "version": "2.7.11+"
  }
 },
 "nbformat": 4,
 "nbformat_minor": 0
}
