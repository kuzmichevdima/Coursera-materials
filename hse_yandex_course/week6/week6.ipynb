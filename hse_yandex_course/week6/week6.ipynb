{
 "cells": [
  {
   "cell_type": "code",
   "execution_count": 6,
   "metadata": {
    "collapsed": false
   },
   "outputs": [],
   "source": [
    "from skimage.io import imread\n",
    "import skimage\n",
    "image = skimage.img_as_float(imread('parrots.jpg'))"
   ]
  },
  {
   "cell_type": "code",
   "execution_count": 8,
   "metadata": {
    "collapsed": false
   },
   "outputs": [
    {
     "data": {
      "text/plain": [
       "(474, 713, 3)"
      ]
     },
     "execution_count": 8,
     "metadata": {},
     "output_type": "execute_result"
    }
   ],
   "source": [
    "image.shape"
   ]
  },
  {
   "cell_type": "code",
   "execution_count": 12,
   "metadata": {
    "collapsed": false
   },
   "outputs": [],
   "source": [
    "X = image.reshape((474*713,3))"
   ]
  },
  {
   "cell_type": "code",
   "execution_count": 49,
   "metadata": {
    "collapsed": false
   },
   "outputs": [],
   "source": [
    "pixel_max = np.max(X)"
   ]
  },
  {
   "cell_type": "code",
   "execution_count": 60,
   "metadata": {
    "collapsed": true
   },
   "outputs": [],
   "source": [
    "from sklearn.cluster import KMeans"
   ]
  },
  {
   "cell_type": "code",
   "execution_count": 63,
   "metadata": {
    "collapsed": false
   },
   "outputs": [
    {
     "name": "stdout",
     "output_type": "stream",
     "text": [
      "(8, 18.503903735975392, 18.205197642655545)\n",
      "(9, 19.18609183686288, 18.88855971895415)\n",
      "(10, 19.71477095937409, 19.45229794560526)\n",
      "(11, 20.20214057679801, 19.93576599918225)\n",
      "(12, 20.67470402756038, 20.385925740744447)\n",
      "(13, 21.098566342634307, 20.875403742369826)\n",
      "(14, 21.404108171633716, 21.201057045269238)\n",
      "(15, 21.683474603747474, 21.483122574515182)\n",
      "(16, 21.940483288212306, 21.74750507590849)\n",
      "(17, 22.202031721137757, 21.995710130533258)\n",
      "(18, 22.411214986947485, 22.20961752933985)\n",
      "(19, 22.59810340801011, 22.43483210821079)\n"
     ]
    }
   ],
   "source": [
    "for n_cl in range(8, 20):\n",
    "    kmeans = KMeans(init='k-means++', random_state=241,n_clusters=n_cl)\n",
    "    clasters = kmeans.fit_predict(X)\n",
    "    lst = [[] for x in range(n_cl)]\n",
    "    for i in range(len(clasters)):\n",
    "        lst[clasters[i]].append(X[i])\n",
    "    cl_mean = [0] * n_cl\n",
    "    cl_med = [0] * n_cl\n",
    "    for j in range(n_cl):\n",
    "        cl_mean[j] = np.mean(lst[j],axis=0)\n",
    "        cl_med[j] = np.median(lst[j],axis=0)\n",
    "    Y_mean = map(lambda c : cl_mean[c], clasters)\n",
    "    Y_med = map(lambda c : cl_med[c], clasters)\n",
    "    print(n_cl, psnr(X, Y_mean), psnr(X, Y_med))"
   ]
  },
  {
   "cell_type": "code",
   "execution_count": null,
   "metadata": {
    "collapsed": false
   },
   "outputs": [],
   "source": [
    "    def psnr(X, Y):\n",
    "        MSE = 0\n",
    "        for i in range(474):\n",
    "            for j in range(713):\n",
    "                for k in range(3):\n",
    "                    MSE += (image[i,j,k] - Y[i * 713 + j][k]) ** 2\n",
    "        MSE = 1.0 * MSE / (474 * 713 * 3)\n",
    "        return 20 * math.log10(pixel_max) - 10 * math.log10(MSE)"
   ]
  },
  {
   "cell_type": "code",
   "execution_count": null,
   "metadata": {
    "collapsed": true
   },
   "outputs": [],
   "source": []
  }
 ],
 "metadata": {
  "kernelspec": {
   "display_name": "Python 2",
   "language": "python",
   "name": "python2"
  },
  "language_info": {
   "codemirror_mode": {
    "name": "ipython",
    "version": 2
   },
   "file_extension": ".py",
   "mimetype": "text/x-python",
   "name": "python",
   "nbconvert_exporter": "python",
   "pygments_lexer": "ipython2",
   "version": "2.7.11+"
  }
 },
 "nbformat": 4,
 "nbformat_minor": 0
}
