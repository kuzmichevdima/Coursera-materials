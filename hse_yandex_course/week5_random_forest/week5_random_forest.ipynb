{
 "cells": [
  {
   "cell_type": "code",
   "execution_count": 2,
   "metadata": {
    "collapsed": false
   },
   "outputs": [],
   "source": [
    "import pandas\n",
    "df = pandas.read_csv('abalone.csv')"
   ]
  },
  {
   "cell_type": "code",
   "execution_count": 4,
   "metadata": {
    "collapsed": false
   },
   "outputs": [],
   "source": [
    "df['Sex'] = df['Sex'].map(lambda x: 1 if x == 'M' else (-1 if x == 'F' else 0))"
   ]
  },
  {
   "cell_type": "code",
   "execution_count": 5,
   "metadata": {
    "collapsed": false
   },
   "outputs": [
    {
     "data": {
      "text/html": [
       "<div>\n",
       "<table border=\"1\" class=\"dataframe\">\n",
       "  <thead>\n",
       "    <tr style=\"text-align: right;\">\n",
       "      <th></th>\n",
       "      <th>Sex</th>\n",
       "      <th>Length</th>\n",
       "      <th>Diameter</th>\n",
       "      <th>Height</th>\n",
       "      <th>WholeWeight</th>\n",
       "      <th>ShuckedWeight</th>\n",
       "      <th>VisceraWeight</th>\n",
       "      <th>ShellWeight</th>\n",
       "      <th>Rings</th>\n",
       "    </tr>\n",
       "  </thead>\n",
       "  <tbody>\n",
       "    <tr>\n",
       "      <th>0</th>\n",
       "      <td>1</td>\n",
       "      <td>0.455</td>\n",
       "      <td>0.365</td>\n",
       "      <td>0.095</td>\n",
       "      <td>0.5140</td>\n",
       "      <td>0.2245</td>\n",
       "      <td>0.1010</td>\n",
       "      <td>0.150</td>\n",
       "      <td>15</td>\n",
       "    </tr>\n",
       "    <tr>\n",
       "      <th>1</th>\n",
       "      <td>1</td>\n",
       "      <td>0.350</td>\n",
       "      <td>0.265</td>\n",
       "      <td>0.090</td>\n",
       "      <td>0.2255</td>\n",
       "      <td>0.0995</td>\n",
       "      <td>0.0485</td>\n",
       "      <td>0.070</td>\n",
       "      <td>7</td>\n",
       "    </tr>\n",
       "    <tr>\n",
       "      <th>2</th>\n",
       "      <td>-1</td>\n",
       "      <td>0.530</td>\n",
       "      <td>0.420</td>\n",
       "      <td>0.135</td>\n",
       "      <td>0.6770</td>\n",
       "      <td>0.2565</td>\n",
       "      <td>0.1415</td>\n",
       "      <td>0.210</td>\n",
       "      <td>9</td>\n",
       "    </tr>\n",
       "    <tr>\n",
       "      <th>3</th>\n",
       "      <td>1</td>\n",
       "      <td>0.440</td>\n",
       "      <td>0.365</td>\n",
       "      <td>0.125</td>\n",
       "      <td>0.5160</td>\n",
       "      <td>0.2155</td>\n",
       "      <td>0.1140</td>\n",
       "      <td>0.155</td>\n",
       "      <td>10</td>\n",
       "    </tr>\n",
       "    <tr>\n",
       "      <th>4</th>\n",
       "      <td>0</td>\n",
       "      <td>0.330</td>\n",
       "      <td>0.255</td>\n",
       "      <td>0.080</td>\n",
       "      <td>0.2050</td>\n",
       "      <td>0.0895</td>\n",
       "      <td>0.0395</td>\n",
       "      <td>0.055</td>\n",
       "      <td>7</td>\n",
       "    </tr>\n",
       "  </tbody>\n",
       "</table>\n",
       "</div>"
      ],
      "text/plain": [
       "   Sex  Length  Diameter  Height  WholeWeight  ShuckedWeight  VisceraWeight  \\\n",
       "0    1   0.455     0.365   0.095       0.5140         0.2245         0.1010   \n",
       "1    1   0.350     0.265   0.090       0.2255         0.0995         0.0485   \n",
       "2   -1   0.530     0.420   0.135       0.6770         0.2565         0.1415   \n",
       "3    1   0.440     0.365   0.125       0.5160         0.2155         0.1140   \n",
       "4    0   0.330     0.255   0.080       0.2050         0.0895         0.0395   \n",
       "\n",
       "   ShellWeight  Rings  \n",
       "0        0.150     15  \n",
       "1        0.070      7  \n",
       "2        0.210      9  \n",
       "3        0.155     10  \n",
       "4        0.055      7  "
      ]
     },
     "execution_count": 5,
     "metadata": {},
     "output_type": "execute_result"
    }
   ],
   "source": [
    "df.head()"
   ]
  },
  {
   "cell_type": "code",
   "execution_count": 12,
   "metadata": {
    "collapsed": false
   },
   "outputs": [],
   "source": [
    "X = df.drop('Rings', 1)\n",
    "y = df['Rings']"
   ]
  },
  {
   "cell_type": "code",
   "execution_count": 25,
   "metadata": {
    "collapsed": false
   },
   "outputs": [
    {
     "name": "stdout",
     "output_type": "stream",
     "text": [
      "(1, 0.10213869487724367)\n",
      "(2, 0.33841675515802144)\n",
      "(3, 0.40357984946186909)\n",
      "(4, 0.44272239896668103)\n",
      "(5, 0.46402076606749693)\n",
      "(6, 0.47058163275877918)\n",
      "(7, 0.47583061635230062)\n",
      "(8, 0.4817418456255852)\n",
      "(9, 0.4883478130215681)\n",
      "(10, 0.49446412480247826)\n",
      "(11, 0.4933965550001963)\n",
      "(12, 0.49796587639761541)\n",
      "(13, 0.50213646057228534)\n",
      "(14, 0.50642869622573283)\n",
      "(15, 0.50833119704321006)\n",
      "(16, 0.51051314383221469)\n",
      "(17, 0.51384829479930283)\n",
      "(18, 0.51632754127394931)\n",
      "(19, 0.51903468813638798)\n",
      "(20, 0.51867359287238224)\n",
      "(21, 0.51983542335425015)\n",
      "(22, 0.52015835367222107)\n",
      "(23, 0.52101727093662509)\n",
      "(24, 0.52240318258080909)\n",
      "(25, 0.52261746396760711)\n",
      "(26, 0.52380615817170517)\n",
      "(27, 0.52412235221889814)\n",
      "(28, 0.52505374512324399)\n",
      "(29, 0.52597037563489313)\n",
      "(30, 0.52653782166757546)\n",
      "(31, 0.52709985443060225)\n",
      "(32, 0.52838940820927838)\n",
      "(33, 0.52961655612292768)\n",
      "(34, 0.52956395544383794)\n",
      "(35, 0.52951724744047302)\n",
      "(36, 0.5295996267890184)\n",
      "(37, 0.52913141344745995)\n",
      "(38, 0.52916025763348329)\n",
      "(39, 0.52924098102743389)\n",
      "(40, 0.52906701596316297)\n",
      "(41, 0.52934200569111833)\n",
      "(42, 0.52957320653375461)\n",
      "(43, 0.52937549466485323)\n",
      "(44, 0.52911923375632508)\n",
      "(45, 0.52837546602772023)\n",
      "(46, 0.52852042754934581)\n",
      "(47, 0.52870494457919082)\n",
      "(48, 0.52961275154377341)\n",
      "(49, 0.53039445544344976)\n",
      "(50, 0.53059634353945351)\n"
     ]
    }
   ],
   "source": [
    "import sklearn\n",
    "from sklearn.ensemble import RandomForestRegressor\n",
    "from sklearn.cross_validation import KFold\n",
    "from sklearn.cross_validation import cross_val_score\n",
    "from sklearn.metrics import r2_score\n",
    "kf = KFold(len(X), n_folds=5, random_state=1, shuffle=True)\n",
    "for num_trees in range(1, 51):\n",
    "    forest = RandomForestRegressor(random_state=1,n_estimators=num_trees)\n",
    "    score = cross_val_score(forest, X, y, scoring='r2', cv=kf).mean()\n",
    "    print(num_trees, score)"
   ]
  },
  {
   "cell_type": "code",
   "execution_count": null,
   "metadata": {
    "collapsed": true
   },
   "outputs": [],
   "source": []
  }
 ],
 "metadata": {
  "kernelspec": {
   "display_name": "Python 2",
   "language": "python",
   "name": "python2"
  },
  "language_info": {
   "codemirror_mode": {
    "name": "ipython",
    "version": 2
   },
   "file_extension": ".py",
   "mimetype": "text/x-python",
   "name": "python",
   "nbconvert_exporter": "python",
   "pygments_lexer": "ipython2",
   "version": "2.7.11+"
  }
 },
 "nbformat": 4,
 "nbformat_minor": 0
}
